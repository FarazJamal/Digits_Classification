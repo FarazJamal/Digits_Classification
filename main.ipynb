{
 "cells": [
  {
   "cell_type": "code",
   "execution_count": 111,
   "id": "baa1db99-b372-4e8f-b8c6-fe19e63ca91f",
   "metadata": {},
   "outputs": [],
   "source": [
    "import numpy as np\n",
    "import matplotlib.pyplot as plt\n",
    "import seaborn as sns\n",
    "import cv2\n",
    "from PIL import Image\n",
    "import tensorflow as tf\n",
    "tf.random.set_seed(3)\n",
    "from tensorflow import keras\n",
    "from keras.datasets import mnist\n",
    "from tensorflow.math import confusion_matrix\n",
    "from tensorflow.keras import Sequential\n",
    "from tensorflow.keras.layers import Flatten, Dense, Dropout, BatchNormalization"
   ]
  },
  {
   "cell_type": "code",
   "execution_count": 2,
   "id": "4cfa83db-f934-4375-b2fc-0c0a154e3442",
   "metadata": {},
   "outputs": [
    {
     "name": "stdout",
     "output_type": "stream",
     "text": [
      "Downloading data from https://storage.googleapis.com/tensorflow/tf-keras-datasets/mnist.npz\n",
      "11490434/11490434 [==============================] - 2s 0us/step\n"
     ]
    }
   ],
   "source": [
    "# loading mnist data from keras library\n",
    "\n",
    "(X_train, Y_train), (X_test, Y_test) = mnist.load_data()"
   ]
  },
  {
   "cell_type": "code",
   "execution_count": 3,
   "id": "ae276c56-4615-4152-b27b-15ca51335337",
   "metadata": {},
   "outputs": [
    {
     "data": {
      "text/plain": [
       "numpy.ndarray"
      ]
     },
     "execution_count": 3,
     "metadata": {},
     "output_type": "execute_result"
    }
   ],
   "source": [
    "type(X_train)"
   ]
  },
  {
   "cell_type": "code",
   "execution_count": 7,
   "id": "e9ccc945-2ed6-4e74-b271-119e05d18db4",
   "metadata": {},
   "outputs": [
    {
     "name": "stdout",
     "output_type": "stream",
     "text": [
      "(60000, 28, 28) (60000,) (10000, 28, 28) (10000,)\n"
     ]
    }
   ],
   "source": [
    "# 60,000 images each with 28x28 dim (pixel),  60,000 in Y shows labels\n",
    "# Training data = 60,000 images\n",
    "# Test data = 10,000 images\n",
    "# Image dimension 28x28\n",
    "\n",
    "print(X_train.shape, Y_train.shape, X_test.shape, Y_test.shape)"
   ]
  },
  {
   "cell_type": "code",
   "execution_count": 8,
   "id": "7bd124eb-3b72-46f0-8f4d-017367b1b107",
   "metadata": {},
   "outputs": [
    {
     "name": "stdout",
     "output_type": "stream",
     "text": [
      "[[  0   0   0   0   0   0   0   0   0   0   0   0   0   0   0   0   0   0\n",
      "    0   0   0   0   0   0   0   0   0   0]\n",
      " [  0   0   0   0   0   0   0   0   0   0   0   0   0   0   0   0   0   0\n",
      "    0   0   0   0   0   0   0   0   0   0]\n",
      " [  0   0   0   0   0   0   0   0   0   0   0   0   0   0   0   0   0   0\n",
      "    0   0   0   0   0   0   0   0   0   0]\n",
      " [  0   0   0   0   0   0   0   0   0   0   0   0   0   0   0   0   0   0\n",
      "    0   0   0   0   0   0   0   0   0   0]\n",
      " [  0   0   0   0   0   0   0   0   0   0   0   0   0   0   0   0   0   0\n",
      "    0   0   0   0   0   0   0   0   0   0]\n",
      " [  0   0   0   0   0   0   0   0   0   0   0   0   3  18  18  18 126 136\n",
      "  175  26 166 255 247 127   0   0   0   0]\n",
      " [  0   0   0   0   0   0   0   0  30  36  94 154 170 253 253 253 253 253\n",
      "  225 172 253 242 195  64   0   0   0   0]\n",
      " [  0   0   0   0   0   0   0  49 238 253 253 253 253 253 253 253 253 251\n",
      "   93  82  82  56  39   0   0   0   0   0]\n",
      " [  0   0   0   0   0   0   0  18 219 253 253 253 253 253 198 182 247 241\n",
      "    0   0   0   0   0   0   0   0   0   0]\n",
      " [  0   0   0   0   0   0   0   0  80 156 107 253 253 205  11   0  43 154\n",
      "    0   0   0   0   0   0   0   0   0   0]\n",
      " [  0   0   0   0   0   0   0   0   0  14   1 154 253  90   0   0   0   0\n",
      "    0   0   0   0   0   0   0   0   0   0]\n",
      " [  0   0   0   0   0   0   0   0   0   0   0 139 253 190   2   0   0   0\n",
      "    0   0   0   0   0   0   0   0   0   0]\n",
      " [  0   0   0   0   0   0   0   0   0   0   0  11 190 253  70   0   0   0\n",
      "    0   0   0   0   0   0   0   0   0   0]\n",
      " [  0   0   0   0   0   0   0   0   0   0   0   0  35 241 225 160 108   1\n",
      "    0   0   0   0   0   0   0   0   0   0]\n",
      " [  0   0   0   0   0   0   0   0   0   0   0   0   0  81 240 253 253 119\n",
      "   25   0   0   0   0   0   0   0   0   0]\n",
      " [  0   0   0   0   0   0   0   0   0   0   0   0   0   0  45 186 253 253\n",
      "  150  27   0   0   0   0   0   0   0   0]\n",
      " [  0   0   0   0   0   0   0   0   0   0   0   0   0   0   0  16  93 252\n",
      "  253 187   0   0   0   0   0   0   0   0]\n",
      " [  0   0   0   0   0   0   0   0   0   0   0   0   0   0   0   0   0 249\n",
      "  253 249  64   0   0   0   0   0   0   0]\n",
      " [  0   0   0   0   0   0   0   0   0   0   0   0   0   0  46 130 183 253\n",
      "  253 207   2   0   0   0   0   0   0   0]\n",
      " [  0   0   0   0   0   0   0   0   0   0   0   0  39 148 229 253 253 253\n",
      "  250 182   0   0   0   0   0   0   0   0]\n",
      " [  0   0   0   0   0   0   0   0   0   0  24 114 221 253 253 253 253 201\n",
      "   78   0   0   0   0   0   0   0   0   0]\n",
      " [  0   0   0   0   0   0   0   0  23  66 213 253 253 253 253 198  81   2\n",
      "    0   0   0   0   0   0   0   0   0   0]\n",
      " [  0   0   0   0   0   0  18 171 219 253 253 253 253 195  80   9   0   0\n",
      "    0   0   0   0   0   0   0   0   0   0]\n",
      " [  0   0   0   0  55 172 226 253 253 253 253 244 133  11   0   0   0   0\n",
      "    0   0   0   0   0   0   0   0   0   0]\n",
      " [  0   0   0   0 136 253 253 253 212 135 132  16   0   0   0   0   0   0\n",
      "    0   0   0   0   0   0   0   0   0   0]\n",
      " [  0   0   0   0   0   0   0   0   0   0   0   0   0   0   0   0   0   0\n",
      "    0   0   0   0   0   0   0   0   0   0]\n",
      " [  0   0   0   0   0   0   0   0   0   0   0   0   0   0   0   0   0   0\n",
      "    0   0   0   0   0   0   0   0   0   0]\n",
      " [  0   0   0   0   0   0   0   0   0   0   0   0   0   0   0   0   0   0\n",
      "    0   0   0   0   0   0   0   0   0   0]]\n"
     ]
    }
   ],
   "source": [
    "# printing 10th image\n",
    "\n",
    "print(X_train[0])"
   ]
  },
  {
   "cell_type": "code",
   "execution_count": 15,
   "id": "feb9e30d-3933-4910-bb30-87639f1988e0",
   "metadata": {},
   "outputs": [
    {
     "data": {
      "image/png": "[encoded data removed]",
      "text/plain": [
       "<Figure size 640x480 with 1 Axes>"
      ]
     },
     "metadata": {},
     "output_type": "display_data"
    },
    {
     "name": "stdout",
     "output_type": "stream",
     "text": [
      "3\n"
     ]
    }
   ],
   "source": [
    "# printing 50th image with it's corresponding label\n",
    "\n",
    "plt.imshow(X_train[50])\n",
    "plt.show()\n",
    "\n",
    "print(Y_train[50])"
   ]
  },
  {
   "cell_type": "code",
   "execution_count": 16,
   "id": "526ed141-6045-4daf-8b8a-68979cc9ccb6",
   "metadata": {},
   "outputs": [
    {
     "name": "stdout",
     "output_type": "stream",
     "text": [
      "[0 1 2 3 4 5 6 7 8 9]\n",
      "[0 1 2 3 4 5 6 7 8 9]\n"
     ]
    }
   ],
   "source": [
    "# checking unique values in Y\n",
    "\n",
    "print(np.unique(Y_train))\n",
    "print(np.unique(Y_test))"
   ]
  },
  {
   "cell_type": "code",
   "execution_count": 17,
   "id": "c79d2933-c1de-49ca-b98e-e94b76a314ae",
   "metadata": {},
   "outputs": [],
   "source": [
    "# we can use above values as same or apply one hot encoding\n",
    "# here dim are same so no need to resize images"
   ]
  },
  {
   "cell_type": "code",
   "execution_count": 20,
   "id": "d1d25200-c26f-432f-a6a6-7a11cb20f291",
   "metadata": {},
   "outputs": [
    {
     "name": "stdout",
     "output_type": "stream",
     "text": [
      "[[0.00000000e+00 0.00000000e+00 0.00000000e+00 0.00000000e+00\n",
      "  0.00000000e+00 0.00000000e+00 0.00000000e+00 0.00000000e+00\n",
      "  0.00000000e+00 0.00000000e+00 0.00000000e+00 0.00000000e+00\n",
      "  0.00000000e+00 0.00000000e+00 0.00000000e+00 0.00000000e+00\n",
      "  0.00000000e+00 0.00000000e+00 0.00000000e+00 0.00000000e+00\n",
      "  0.00000000e+00 0.00000000e+00 0.00000000e+00 0.00000000e+00\n",
      "  0.00000000e+00 0.00000000e+00 0.00000000e+00 0.00000000e+00]\n",
      " [0.00000000e+00 0.00000000e+00 0.00000000e+00 0.00000000e+00\n",
      "  0.00000000e+00 0.00000000e+00 0.00000000e+00 0.00000000e+00\n",
      "  0.00000000e+00 0.00000000e+00 0.00000000e+00 0.00000000e+00\n",
      "  0.00000000e+00 0.00000000e+00 0.00000000e+00 0.00000000e+00\n",
      "  0.00000000e+00 0.00000000e+00 0.00000000e+00 0.00000000e+00\n",
      "  0.00000000e+00 0.00000000e+00 0.00000000e+00 0.00000000e+00\n",
      "  0.00000000e+00 0.00000000e+00 0.00000000e+00 0.00000000e+00]\n",
      " [0.00000000e+00 0.00000000e+00 0.00000000e+00 0.00000000e+00\n",
      "  0.00000000e+00 0.00000000e+00 0.00000000e+00 0.00000000e+00\n",
      "  0.00000000e+00 0.00000000e+00 0.00000000e+00 0.00000000e+00\n",
      "  0.00000000e+00 0.00000000e+00 0.00000000e+00 0.00000000e+00\n",
      "  0.00000000e+00 0.00000000e+00 0.00000000e+00 0.00000000e+00\n",
      "  0.00000000e+00 0.00000000e+00 0.00000000e+00 0.00000000e+00\n",
      "  0.00000000e+00 0.00000000e+00 0.00000000e+00 0.00000000e+00]\n",
      " [0.00000000e+00 0.00000000e+00 0.00000000e+00 0.00000000e+00\n",
      "  0.00000000e+00 0.00000000e+00 0.00000000e+00 0.00000000e+00\n",
      "  0.00000000e+00 0.00000000e+00 0.00000000e+00 0.00000000e+00\n",
      "  0.00000000e+00 0.00000000e+00 0.00000000e+00 0.00000000e+00\n",
      "  0.00000000e+00 0.00000000e+00 0.00000000e+00 0.00000000e+00\n",
      "  0.00000000e+00 0.00000000e+00 0.00000000e+00 0.00000000e+00\n",
      "  0.00000000e+00 0.00000000e+00 0.00000000e+00 0.00000000e+00]\n",
      " [0.00000000e+00 0.00000000e+00 0.00000000e+00 0.00000000e+00\n",
      "  0.00000000e+00 0.00000000e+00 0.00000000e+00 0.00000000e+00\n",
      "  0.00000000e+00 0.00000000e+00 0.00000000e+00 2.53296244e-06\n",
      "  7.11641827e-06 1.32075898e-05 1.00112325e-05 7.11641827e-06\n",
      "  7.11641827e-06 3.61851776e-07 0.00000000e+00 0.00000000e+00\n",
      "  0.00000000e+00 0.00000000e+00 0.00000000e+00 0.00000000e+00\n",
      "  0.00000000e+00 0.00000000e+00 0.00000000e+00 0.00000000e+00]\n",
      " [0.00000000e+00 0.00000000e+00 0.00000000e+00 0.00000000e+00\n",
      "  0.00000000e+00 0.00000000e+00 0.00000000e+00 0.00000000e+00\n",
      "  0.00000000e+00 0.00000000e+00 6.21178883e-06 1.45946883e-05\n",
      "  1.53183919e-05 1.53183919e-05 1.53183919e-05 1.53183919e-05\n",
      "  1.53183919e-05 3.98036954e-06 0.00000000e+00 0.00000000e+00\n",
      "  0.00000000e+00 0.00000000e+00 0.00000000e+00 0.00000000e+00\n",
      "  0.00000000e+00 0.00000000e+00 0.00000000e+00 0.00000000e+00]\n",
      " [0.00000000e+00 0.00000000e+00 0.00000000e+00 0.00000000e+00\n",
      "  0.00000000e+00 0.00000000e+00 0.00000000e+00 0.00000000e+00\n",
      "  0.00000000e+00 0.00000000e+00 1.08555533e-06 1.39916020e-05\n",
      "  1.53183919e-05 1.53183919e-05 1.53183919e-05 1.53183919e-05\n",
      "  1.53183919e-05 1.43534538e-05 4.22160406e-06 0.00000000e+00\n",
      "  0.00000000e+00 0.00000000e+00 0.00000000e+00 0.00000000e+00\n",
      "  0.00000000e+00 0.00000000e+00 0.00000000e+00 0.00000000e+00]\n",
      " [0.00000000e+00 0.00000000e+00 0.00000000e+00 0.00000000e+00\n",
      "  0.00000000e+00 0.00000000e+00 0.00000000e+00 0.00000000e+00\n",
      "  0.00000000e+00 0.00000000e+00 0.00000000e+00 6.27209746e-06\n",
      "  1.47153056e-05 1.53183919e-05 1.35091330e-05 1.53183919e-05\n",
      "  1.53183919e-05 1.53183919e-05 8.50351675e-06 0.00000000e+00\n",
      "  0.00000000e+00 0.00000000e+00 0.00000000e+00 0.00000000e+00\n",
      "  0.00000000e+00 0.00000000e+00 0.00000000e+00 0.00000000e+00]\n",
      " [0.00000000e+00 0.00000000e+00 0.00000000e+00 0.00000000e+00\n",
      "  0.00000000e+00 0.00000000e+00 0.00000000e+00 0.00000000e+00\n",
      "  0.00000000e+00 0.00000000e+00 0.00000000e+00 0.00000000e+00\n",
      "  1.24838863e-05 1.53183919e-05 1.26648122e-05 1.53183919e-05\n",
      "  1.53183919e-05 1.53183919e-05 2.05049340e-06 0.00000000e+00\n",
      "  0.00000000e+00 0.00000000e+00 0.00000000e+00 0.00000000e+00\n",
      "  0.00000000e+00 0.00000000e+00 0.00000000e+00 0.00000000e+00]\n",
      " [0.00000000e+00 0.00000000e+00 0.00000000e+00 0.00000000e+00\n",
      "  0.00000000e+00 0.00000000e+00 0.00000000e+00 0.00000000e+00\n",
      "  0.00000000e+00 0.00000000e+00 0.00000000e+00 0.00000000e+00\n",
      "  5.06592487e-06 1.24235777e-05 1.53183919e-05 1.53183919e-05\n",
      "  1.53183919e-05 1.53183919e-05 2.47265381e-06 0.00000000e+00\n",
      "  0.00000000e+00 0.00000000e+00 0.00000000e+00 0.00000000e+00\n",
      "  0.00000000e+00 0.00000000e+00 0.00000000e+00 0.00000000e+00]\n",
      " [0.00000000e+00 0.00000000e+00 0.00000000e+00 0.00000000e+00\n",
      "  0.00000000e+00 0.00000000e+00 0.00000000e+00 0.00000000e+00\n",
      "  0.00000000e+00 0.00000000e+00 0.00000000e+00 0.00000000e+00\n",
      "  0.00000000e+00 1.44740711e-06 1.26045035e-05 1.53183919e-05\n",
      "  1.53183919e-05 1.53183919e-05 1.03127756e-05 0.00000000e+00\n",
      "  0.00000000e+00 0.00000000e+00 0.00000000e+00 0.00000000e+00\n",
      "  0.00000000e+00 0.00000000e+00 0.00000000e+00 0.00000000e+00]\n",
      " [0.00000000e+00 0.00000000e+00 0.00000000e+00 0.00000000e+00\n",
      "  0.00000000e+00 0.00000000e+00 0.00000000e+00 0.00000000e+00\n",
      "  0.00000000e+00 0.00000000e+00 0.00000000e+00 0.00000000e+00\n",
      "  5.48808528e-06 8.26228223e-06 1.52580832e-05 1.53183919e-05\n",
      "  1.53183919e-05 1.53183919e-05 6.75456649e-06 0.00000000e+00\n",
      "  0.00000000e+00 0.00000000e+00 0.00000000e+00 0.00000000e+00\n",
      "  0.00000000e+00 0.00000000e+00 0.00000000e+00 0.00000000e+00]\n",
      " [0.00000000e+00 0.00000000e+00 0.00000000e+00 0.00000000e+00\n",
      "  0.00000000e+00 0.00000000e+00 0.00000000e+00 0.00000000e+00\n",
      "  0.00000000e+00 0.00000000e+00 2.41234518e-06 1.29060467e-05\n",
      "  1.50771574e-05 1.53183919e-05 1.53183919e-05 1.53183919e-05\n",
      "  1.53183919e-05 1.53183919e-05 2.05049340e-06 0.00000000e+00\n",
      "  0.00000000e+00 0.00000000e+00 0.00000000e+00 0.00000000e+00\n",
      "  0.00000000e+00 0.00000000e+00 0.00000000e+00 0.00000000e+00]\n",
      " [0.00000000e+00 0.00000000e+00 0.00000000e+00 0.00000000e+00\n",
      "  0.00000000e+00 0.00000000e+00 0.00000000e+00 0.00000000e+00\n",
      "  0.00000000e+00 0.00000000e+00 4.88499898e-06 1.48962315e-05\n",
      "  1.53183919e-05 1.53183919e-05 1.53183919e-05 1.53183919e-05\n",
      "  1.53183919e-05 1.53183919e-05 8.80505989e-06 0.00000000e+00\n",
      "  0.00000000e+00 0.00000000e+00 0.00000000e+00 0.00000000e+00\n",
      "  0.00000000e+00 0.00000000e+00 0.00000000e+00 0.00000000e+00]\n",
      " [0.00000000e+00 0.00000000e+00 0.00000000e+00 0.00000000e+00\n",
      "  0.00000000e+00 0.00000000e+00 0.00000000e+00 0.00000000e+00\n",
      "  0.00000000e+00 0.00000000e+00 0.00000000e+00 6.63394924e-06\n",
      "  1.48359228e-05 1.53183919e-05 1.53183919e-05 1.53183919e-05\n",
      "  1.53183919e-05 1.53183919e-05 1.03127756e-05 0.00000000e+00\n",
      "  0.00000000e+00 0.00000000e+00 0.00000000e+00 0.00000000e+00\n",
      "  0.00000000e+00 0.00000000e+00 0.00000000e+00 0.00000000e+00]\n",
      " [0.00000000e+00 0.00000000e+00 0.00000000e+00 0.00000000e+00\n",
      "  0.00000000e+00 0.00000000e+00 0.00000000e+00 0.00000000e+00\n",
      "  0.00000000e+00 0.00000000e+00 0.00000000e+00 0.00000000e+00\n",
      "  4.40252995e-06 5.36746802e-06 5.36746802e-06 5.60870254e-06\n",
      "  1.44740711e-05 1.53183919e-05 1.03127756e-05 0.00000000e+00\n",
      "  0.00000000e+00 0.00000000e+00 0.00000000e+00 0.00000000e+00\n",
      "  0.00000000e+00 0.00000000e+00 0.00000000e+00 0.00000000e+00]\n",
      " [0.00000000e+00 0.00000000e+00 0.00000000e+00 0.00000000e+00\n",
      "  0.00000000e+00 0.00000000e+00 0.00000000e+00 0.00000000e+00\n",
      "  0.00000000e+00 0.00000000e+00 0.00000000e+00 0.00000000e+00\n",
      "  0.00000000e+00 0.00000000e+00 0.00000000e+00 6.03086294e-08\n",
      "  7.71950456e-06 1.53183919e-05 1.32075898e-05 1.86956751e-06\n",
      "  0.00000000e+00 0.00000000e+00 0.00000000e+00 0.00000000e+00\n",
      "  0.00000000e+00 0.00000000e+00 0.00000000e+00 0.00000000e+00]\n",
      " [0.00000000e+00 0.00000000e+00 0.00000000e+00 0.00000000e+00\n",
      "  0.00000000e+00 0.00000000e+00 0.00000000e+00 0.00000000e+00\n",
      "  0.00000000e+00 0.00000000e+00 0.00000000e+00 0.00000000e+00\n",
      "  0.00000000e+00 0.00000000e+00 0.00000000e+00 4.22160406e-07\n",
      "  1.53183919e-05 1.53183919e-05 1.29060467e-05 1.68864162e-06\n",
      "  0.00000000e+00 0.00000000e+00 0.00000000e+00 0.00000000e+00\n",
      "  0.00000000e+00 0.00000000e+00 0.00000000e+00 0.00000000e+00]\n",
      " [0.00000000e+00 0.00000000e+00 0.00000000e+00 0.00000000e+00\n",
      "  0.00000000e+00 0.00000000e+00 0.00000000e+00 0.00000000e+00\n",
      "  0.00000000e+00 0.00000000e+00 0.00000000e+00 0.00000000e+00\n",
      "  0.00000000e+00 0.00000000e+00 0.00000000e+00 8.32259086e-06\n",
      "  1.53183919e-05 1.53183919e-05 6.99580101e-06 0.00000000e+00\n",
      "  0.00000000e+00 0.00000000e+00 0.00000000e+00 0.00000000e+00\n",
      "  0.00000000e+00 0.00000000e+00 0.00000000e+00 0.00000000e+00]\n",
      " [0.00000000e+00 0.00000000e+00 0.00000000e+00 0.00000000e+00\n",
      "  0.00000000e+00 0.00000000e+00 1.14586396e-06 1.06746274e-05\n",
      "  5.42777665e-06 0.00000000e+00 0.00000000e+00 0.00000000e+00\n",
      "  0.00000000e+00 0.00000000e+00 1.50771574e-06 1.44740711e-05\n",
      "  1.53183919e-05 1.53183919e-05 2.05049340e-06 0.00000000e+00\n",
      "  0.00000000e+00 0.00000000e+00 0.00000000e+00 0.00000000e+00\n",
      "  0.00000000e+00 0.00000000e+00 0.00000000e+00 0.00000000e+00]\n",
      " [0.00000000e+00 0.00000000e+00 0.00000000e+00 0.00000000e+00\n",
      "  0.00000000e+00 0.00000000e+00 9.89061522e-06 1.53183919e-05\n",
      "  1.29663553e-05 3.79944365e-06 2.17111066e-06 0.00000000e+00\n",
      "  3.07574010e-06 5.36746802e-06 1.24235777e-05 1.53183919e-05\n",
      "  1.53183919e-05 8.38289949e-06 4.82469035e-07 0.00000000e+00\n",
      "  0.00000000e+00 0.00000000e+00 0.00000000e+00 0.00000000e+00\n",
      "  0.00000000e+00 0.00000000e+00 0.00000000e+00 0.00000000e+00]\n",
      " [0.00000000e+00 0.00000000e+00 0.00000000e+00 0.00000000e+00\n",
      "  0.00000000e+00 0.00000000e+00 3.43759188e-06 1.18808000e-05\n",
      "  1.53183919e-05 1.53183919e-05 1.33885157e-05 1.08555533e-05\n",
      "  1.45343797e-05 1.53183919e-05 1.53183919e-05 1.52580832e-05\n",
      "  1.28457381e-05 6.63394924e-07 0.00000000e+00 0.00000000e+00\n",
      "  0.00000000e+00 0.00000000e+00 0.00000000e+00 0.00000000e+00\n",
      "  0.00000000e+00 0.00000000e+00 0.00000000e+00 0.00000000e+00]\n",
      " [0.00000000e+00 0.00000000e+00 0.00000000e+00 0.00000000e+00\n",
      "  0.00000000e+00 0.00000000e+00 0.00000000e+00 8.44320812e-06\n",
      "  6.33240609e-06 1.53183919e-05 1.53183919e-05 1.53183919e-05\n",
      "  1.53183919e-05 1.53183919e-05 1.53183919e-05 1.42328365e-05\n",
      "  0.00000000e+00 0.00000000e+00 0.00000000e+00 0.00000000e+00\n",
      "  0.00000000e+00 0.00000000e+00 0.00000000e+00 0.00000000e+00\n",
      "  0.00000000e+00 0.00000000e+00 0.00000000e+00 0.00000000e+00]\n",
      " [0.00000000e+00 0.00000000e+00 0.00000000e+00 0.00000000e+00\n",
      "  0.00000000e+00 0.00000000e+00 0.00000000e+00 0.00000000e+00\n",
      "  4.22160406e-07 7.05610964e-06 7.05610964e-06 9.95092385e-06\n",
      "  1.53183919e-05 1.53183919e-05 1.44137624e-05 3.01543147e-06\n",
      "  0.00000000e+00 0.00000000e+00 0.00000000e+00 0.00000000e+00\n",
      "  0.00000000e+00 0.00000000e+00 0.00000000e+00 0.00000000e+00\n",
      "  0.00000000e+00 0.00000000e+00 0.00000000e+00 0.00000000e+00]\n",
      " [0.00000000e+00 0.00000000e+00 0.00000000e+00 0.00000000e+00\n",
      "  0.00000000e+00 0.00000000e+00 0.00000000e+00 0.00000000e+00\n",
      "  0.00000000e+00 0.00000000e+00 0.00000000e+00 0.00000000e+00\n",
      "  0.00000000e+00 0.00000000e+00 0.00000000e+00 0.00000000e+00\n",
      "  0.00000000e+00 0.00000000e+00 0.00000000e+00 0.00000000e+00\n",
      "  0.00000000e+00 0.00000000e+00 0.00000000e+00 0.00000000e+00\n",
      "  0.00000000e+00 0.00000000e+00 0.00000000e+00 0.00000000e+00]\n",
      " [0.00000000e+00 0.00000000e+00 0.00000000e+00 0.00000000e+00\n",
      "  0.00000000e+00 0.00000000e+00 0.00000000e+00 0.00000000e+00\n",
      "  0.00000000e+00 0.00000000e+00 0.00000000e+00 0.00000000e+00\n",
      "  0.00000000e+00 0.00000000e+00 0.00000000e+00 0.00000000e+00\n",
      "  0.00000000e+00 0.00000000e+00 0.00000000e+00 0.00000000e+00\n",
      "  0.00000000e+00 0.00000000e+00 0.00000000e+00 0.00000000e+00\n",
      "  0.00000000e+00 0.00000000e+00 0.00000000e+00 0.00000000e+00]\n",
      " [0.00000000e+00 0.00000000e+00 0.00000000e+00 0.00000000e+00\n",
      "  0.00000000e+00 0.00000000e+00 0.00000000e+00 0.00000000e+00\n",
      "  0.00000000e+00 0.00000000e+00 0.00000000e+00 0.00000000e+00\n",
      "  0.00000000e+00 0.00000000e+00 0.00000000e+00 0.00000000e+00\n",
      "  0.00000000e+00 0.00000000e+00 0.00000000e+00 0.00000000e+00\n",
      "  0.00000000e+00 0.00000000e+00 0.00000000e+00 0.00000000e+00\n",
      "  0.00000000e+00 0.00000000e+00 0.00000000e+00 0.00000000e+00]\n",
      " [0.00000000e+00 0.00000000e+00 0.00000000e+00 0.00000000e+00\n",
      "  0.00000000e+00 0.00000000e+00 0.00000000e+00 0.00000000e+00\n",
      "  0.00000000e+00 0.00000000e+00 0.00000000e+00 0.00000000e+00\n",
      "  0.00000000e+00 0.00000000e+00 0.00000000e+00 0.00000000e+00\n",
      "  0.00000000e+00 0.00000000e+00 0.00000000e+00 0.00000000e+00\n",
      "  0.00000000e+00 0.00000000e+00 0.00000000e+00 0.00000000e+00\n",
      "  0.00000000e+00 0.00000000e+00 0.00000000e+00 0.00000000e+00]]\n"
     ]
    }
   ],
   "source": [
    "# scaling the values\n",
    "\n",
    "X_train = X_train/255\n",
    "X_test = X_test/255\n",
    "print(X_train[10])"
   ]
  },
  {
   "cell_type": "code",
   "execution_count": 115,
   "id": "7c1dd00d-d577-42b6-a4e6-bd327f0003e2",
   "metadata": {},
   "outputs": [],
   "source": [
    "# setting up Neural Network\n",
    "\n",
    "#model = keras.Sequential([\n",
    "#    keras.layers.Flatten(input_shape=(28,28)), # to flatten (1 dim) values of above multidim matrix\n",
    "#    keras.layers.Dense(128, activation='relu'),\n",
    "#    keras.layers.Dense(50, activation='relu'),\n",
    "#    keras.layers.Dense(10, activation='softmax') # Because of 10 values (0-9)\n",
    "#])\n",
    "\n",
    "model = Sequential()\n",
    "model.add(Flatten(input_shape=(28,28)))\n",
    "model.add(Dense(256, activation='relu'))\n",
    "BatchNormalization()\n",
    "Dropout(0.2)\n",
    "model.add(Dense(128, activation='relu'))\n",
    "BatchNormalization()\n",
    "Dropout(0.2)\n",
    "model.add(Dense(64, activation='relu'))\n",
    "BatchNormalization()\n",
    "Dropout(0.2)\n",
    "model.add(Dense(10, activation='softmax'))"
   ]
  },
  {
   "cell_type": "code",
   "execution_count": 113,
   "id": "a6e012fb-3468-47a2-95bc-8a8fe52f1ab8",
   "metadata": {},
   "outputs": [],
   "source": [
    "model.compile(optimizer=tf.keras.optimizers.Adam(learning_rate=0.001),\n",
    "              loss='sparse_categorical_crossentropy',\n",
    "              metrics=['accuracy'])"
   ]
  },
  {
   "cell_type": "code",
   "execution_count": 114,
   "id": "948f9da0-b572-42c1-82ac-a8630a4f5f08",
   "metadata": {},
   "outputs": [
    {
     "name": "stdout",
     "output_type": "stream",
     "text": [
      "Epoch 1/10\n",
      "1500/1500 [==============================] - 5s 3ms/step - loss: 2.3015 - accuracy: 0.1134 - val_loss: 2.3021 - val_accuracy: 0.1060\n",
      "Epoch 2/10\n",
      "1500/1500 [==============================] - 4s 3ms/step - loss: 2.3013 - accuracy: 0.1140 - val_loss: 2.3021 - val_accuracy: 0.1060\n",
      "Epoch 3/10\n",
      "1500/1500 [==============================] - 5s 3ms/step - loss: 2.3012 - accuracy: 0.1140 - val_loss: 2.3020 - val_accuracy: 0.1060\n",
      "Epoch 4/10\n",
      "1500/1500 [==============================] - 5s 3ms/step - loss: 2.3012 - accuracy: 0.1140 - val_loss: 2.3021 - val_accuracy: 0.1060\n",
      "Epoch 5/10\n",
      "1500/1500 [==============================] - 5s 3ms/step - loss: 2.3011 - accuracy: 0.1140 - val_loss: 2.3020 - val_accuracy: 0.1060\n",
      "Epoch 6/10\n",
      "1500/1500 [==============================] - 4s 3ms/step - loss: 2.3012 - accuracy: 0.1140 - val_loss: 2.3023 - val_accuracy: 0.1060\n",
      "Epoch 7/10\n",
      "1500/1500 [==============================] - 4s 3ms/step - loss: 2.3012 - accuracy: 0.1140 - val_loss: 2.3022 - val_accuracy: 0.1060\n",
      "Epoch 8/10\n",
      "1500/1500 [==============================] - 4s 3ms/step - loss: 2.3012 - accuracy: 0.1140 - val_loss: 2.3020 - val_accuracy: 0.1060\n",
      "Epoch 9/10\n",
      "1500/1500 [==============================] - 4s 3ms/step - loss: 2.3012 - accuracy: 0.1140 - val_loss: 2.3020 - val_accuracy: 0.1060\n",
      "Epoch 10/10\n",
      "1500/1500 [==============================] - 5s 3ms/step - loss: 2.3012 - accuracy: 0.1140 - val_loss: 2.3021 - val_accuracy: 0.1060\n"
     ]
    },
    {
     "data": {
      "text/plain": [
       "<keras.src.callbacks.History at 0x7feb4f69d570>"
      ]
     },
     "execution_count": 114,
     "metadata": {},
     "output_type": "execute_result"
    }
   ],
   "source": [
    "model.fit(X_train, Y_train, epochs=10, validation_split=0.2)"
   ]
  },
  {
   "cell_type": "code",
   "execution_count": 26,
   "id": "d3971e63-365e-450f-be16-43482a732e98",
   "metadata": {},
   "outputs": [
    {
     "name": "stdout",
     "output_type": "stream",
     "text": [
      "  1/313 [..............................] - ETA: 40s - loss: 1.0062 - accuracy: 0.5312"
     ]
    },
    {
     "name": "stderr",
     "output_type": "stream",
     "text": [
      "2024-02-07 15:45:33.894192: W tensorflow/tsl/framework/cpu_allocator_impl.cc:83] Allocation of 31360000 exceeds 10% of free system memory.\n"
     ]
    },
    {
     "name": "stdout",
     "output_type": "stream",
     "text": [
      "313/313 [==============================] - 0s 1ms/step - loss: 1.1863 - accuracy: 0.5382\n",
      "1.1863163709640503\n",
      "0.5382000207901001\n"
     ]
    }
   ],
   "source": [
    "# Accuracy on test data\n",
    "\n",
    "loss, accuracy = model.evaluate(X_test, Y_test)\n",
    "print(loss)\n",
    "print(accuracy)"
   ]
  },
  {
   "cell_type": "code",
   "execution_count": 27,
   "id": "997f3f5f-02de-4fd8-a53b-720e05d0c3c2",
   "metadata": {},
   "outputs": [
    {
     "name": "stdout",
     "output_type": "stream",
     "text": [
      "107/313 [=========>....................] - ETA: 0s"
     ]
    },
    {
     "name": "stderr",
     "output_type": "stream",
     "text": [
      "2024-02-07 15:47:43.310739: W tensorflow/tsl/framework/cpu_allocator_impl.cc:83] Allocation of 31360000 exceeds 10% of free system memory.\n"
     ]
    },
    {
     "name": "stdout",
     "output_type": "stream",
     "text": [
      "313/313 [==============================] - 0s 927us/step\n"
     ]
    }
   ],
   "source": [
    "Y_pred = model.predict(X_test)"
   ]
  },
  {
   "cell_type": "code",
   "execution_count": 29,
   "id": "27597a4e-81a9-4df9-9d37-5847ae5594dc",
   "metadata": {},
   "outputs": [
    {
     "data": {
      "text/plain": [
       "(10000, 10)"
      ]
     },
     "execution_count": 29,
     "metadata": {},
     "output_type": "execute_result"
    }
   ],
   "source": [
    "Y_pred.shape"
   ]
  },
  {
   "cell_type": "code",
   "execution_count": 31,
   "id": "4f7a607a-7303-46dc-88a5-a07a6bb99123",
   "metadata": {},
   "outputs": [
    {
     "data": {
      "text/plain": [
       "array([3.8764628e-07, 2.2306055e-01, 8.0394311e-05, 1.4411397e-03,\n",
       "       7.8216845e-01, 6.4202445e-03, 3.3967322e-06, 9.9703395e-01,\n",
       "       1.8737094e-02, 9.7228253e-01], dtype=float32)"
      ]
     },
     "execution_count": 31,
     "metadata": {},
     "output_type": "execute_result"
    }
   ],
   "source": [
    "Y_pred[0]"
   ]
  },
  {
   "cell_type": "code",
   "execution_count": 34,
   "id": "0a4e0c3b-8289-4f31-b7ae-58d2ce3ebf0a",
   "metadata": {},
   "outputs": [
    {
     "data": {
      "text/plain": [
       "7"
      ]
     },
     "execution_count": 34,
     "metadata": {},
     "output_type": "execute_result"
    }
   ],
   "source": [
    "Y_test[0]"
   ]
  },
  {
   "cell_type": "code",
   "execution_count": 32,
   "id": "7f030b79-24dc-4f88-a848-4632ecc4e23f",
   "metadata": {},
   "outputs": [
    {
     "data": {
      "text/plain": [
       "7"
      ]
     },
     "execution_count": 32,
     "metadata": {},
     "output_type": "execute_result"
    }
   ],
   "source": [
    "# converting the prediction probability to class label\n",
    "\n",
    "label_for_first_image = np.argmax(Y_pred[0])\n",
    "label_for_first_image"
   ]
  },
  {
   "cell_type": "code",
   "execution_count": 36,
   "id": "5674a84b-86f5-410e-af83-ac72d06a89c0",
   "metadata": {},
   "outputs": [
    {
     "name": "stdout",
     "output_type": "stream",
     "text": [
      "[7, 2, 1, 0, 9, 1, 9, 9, 5, 7, 6, 8, 7, 0, 1, 3, 7, 7, 2, 9, 7, 6, 4, 5, 9, 0, 7, 9, 0, 1, 8, 1, 2, 0, 7, 2, 7, 1, 2, 1, 1, 7, 7, 3, 3, 6, 1, 6, 9, 9, 6, 2, 4, 8, 6, 0, 4, 1, 7, 4, 7, 5, 4, 3, 7, 4, 8, 7, 2, 0, 7, 0, 2, 1, 1, 7, 3, 9, 9, 7, 7, 6, 2, 7, 4, 4, 7, 5, 6, 1, 3, 6, 9, 3, 1, 7, 1, 1, 6, 7, 5, 0, 4, 9, 4, 7, 2, 1, 9, 9, 3, 1, 8, 7, 1, 9, 9, 9, 9, 4, 6, 9, 7, 5, 7, 9, 6, 4, 8, 4, 6, 6, 6, 7, 8, 1, 0, 1, 6, 7, 6, 7, 1, 1, 7, 1, 8, 2, 0, 8, 9, 8, 4, 8, 1, 5, 6, 0, 3, 9, 9, 0, 6, 7, 5, 2, 4, 8, 1, 4, 9, 1, 2, 8, 3, 7, 1, 8, 1, 3, 1, 3, 4, 0, 3, 9, 2, 2, 0, 1, 1, 1, 0, 9, 0, 8, 1, 6, 9, 3, 2, 6, 1, 1, 1, 8, 9, 5, 2, 7, 9, 9, 7, 1, 9, 5, 3, 5, 9, 5, 7, 2, 6, 7, 1, 3, 8, 4, 1, 7, 8, 3, 2, 7, 9, 7, 3, 2, 9, 1, 3, 8, 5, 9, 1, 6, 0, 3, 7, 3, 9, 9, 7, 8, 7, 9, 3, 3, 2, 0, 4, 1, 7, 7, 1, 1, 6, 1, 6, 0, 3, 0, 1, 7, 7, 9, 1, 1, 2, 1, 2, 7, 1, 9, 9, 2, 6, 9, 1, 8, 9, 2, 7, 3, 0, 4, 0, 0, 2, 3, 9, 1, 1, 9, 9, 6, 2, 7, 9, 3, 3, 0, 0, 2, 1, 7, 6, 4, 2, 6, 1, 1, 7, 3, 4, 9, 2, 0, 7, 1, 1, 3, 1, 8, 3, 3, 9, 7, 6, 6, 3, 4, 1, 2, 8, 1, 0, 4, 1, 7, 1, 6, 6, 6, 1, 8, 5, 7, 7, 9, 9, 6, 9, 2, 5, 0, 8, 8, 6, 8, 7, 2, 5, 8, 8, 5, 9, 1, 1, 4, 0, 7, 2, 7, 6, 1, 6, 8, 1, 7, 6, 5, 5, 1, 9, 8, 2, 8, 4, 9, 6, 8, 2, 4, 3, 4, 6, 0, 2, 1, 7, 7, 8, 7, 7, 7, 1, 7, 3, 1, 7, 2, 9, 2, 6, 8, 9, 1, 4, 8, 1, 8, 8, 4, 7, 1, 4, 2, 7, 6, 0, 0, 3, 5, 8, 0, 6, 9, 8, 6, 3, 2, 3, 2, 7, 1, 8, 6, 9, 6, 7, 6, 6, 6, 7, 1, 8, 3, 1, 8, 8, 7, 6, 1, 8, 4, 1, 2, 8, 8, 1, 9, 7, 4, 9, 5, 9, 7, 7, 1, 0, 5, 2, 2, 7, 6, 9, 1, 0, 5, 3, 7, 1, 2, 1, 3, 1, 5, 6, 8, 7, 9, 2, 2, 6, 8, 6, 6, 5, 7, 8, 9, 7, 1, 2, 0, 8, 6, 8, 1, 9, 2, 4, 4, 6, 4, 1, 1, 8, 2, 8, 7, 8, 8, 4, 5, 0, 2, 8, 2, 7, 1, 0, 2, 7, 9, 7, 7, 7, 0, 7, 0, 7, 8, 5, 7, 8, 5, 2, 8, 4, 9, 4, 2, 3, 9, 3, 1, 9, 7, 3, 0, 3, 3, 1, 7, 6, 6, 5, 9, 2, 3, 0, 7, 6, 2, 8, 0, 7, 9, 5, 1, 6, 4, 4, 7, 2, 8, 6, 3, 5, 0, 2, 8, 1, 3, 7, 1, 5, 1, 6, 8, 4, 6, 3, 0, 7, 9, 7, 6, 9, 1, 2, 2, 7, 3, 7, 3, 4, 7, 1, 6, 0, 2, 0, 5, 3, 1, 2, 7, 0, 7, 1, 3, 5, 3, 0, 2, 7, 1, 4, 5, 7, 1, 3, 6, 7, 9, 9, 1, 9, 9, 1, 9, 2, 1, 7, 2, 7, 9, 6, 7, 1, 8, 1, 1, 3, 3, 6, 4, 2, 1, 7, 3, 8, 1, 1, 4, 7, 4, 1, 0, 7, 7, 0, 7, 7, 7, 4, 3, 6, 6, 4, 5, 6, 3, 1, 0, 8, 4, 2, 6, 9, 5, 5, 1, 9, 3, 8, 6, 7, 2, 6, 9, 8, 1, 5, 0, 2, 5, 7, 1, 0, 6, 6, 1, 7, 1, 4, 1, 6, 6, 4, 2, 1, 1, 9, 9, 9, 9, 9, 5, 4, 6, 3, 9, 6, 1, 1, 6, 4, 7, 1, 7, 9, 2, 8, 1, 6, 4, 2, 8, 2, 1, 8, 6, 6, 1, 9, 9, 1, 9, 1, 3, 0, 8, 2, 4, 1, 2, 8, 2, 4, 4, 0, 8, 3, 2, 2, 1, 4, 3, 6, 7, 6, 3, 3, 0, 1, 2, 6, 6, 7, 6, 1, 7, 1, 9, 3, 8, 8, 1, 7, 7, 2, 1, 1, 3, 9, 2, 1, 7, 9, 4, 9, 0, 9, 3, 1, 2, 1, 0, 7, 7, 0, 3, 9, 3, 3, 7, 6, 5, 9, 2, 6, 2, 6, 3, 8, 4, 6, 0, 8, 2, 9, 2, 2, 6, 2, 8, 7, 1, 7, 8, 6, 6, 6, 3, 2, 1, 2, 2, 2, 7, 2, 6, 6, 5, 1, 2, 1, 9, 9, 2, 0, 2, 7, 1, 4, 7, 9, 7, 3, 9, 3, 3, 9, 7, 1, 3, 1, 2, 3, 3, 9, 3, 6, 2, 9, 1, 1, 9, 6, 2, 5, 4, 3, 6, 8, 5, 6, 7, 6, 8, 9, 2, 7, 9, 1, 1, 1, 4, 5, 9, 7, 6, 3, 8, 8, 9, 7, 8, 7, 1, 1, 0, 7, 1, 8, 4, 5, 9, 0, 6, 2, 2, 1, 1, 8, 1, 2, 0, 3, 8, 1, 2, 6, 7, 1, 6, 3, 1, 9, 0, 1, 6, 2, 0, 4, 9, 7, 0, 3, 2, 1, 7, 7, 8, 1, 6, 9, 1, 7, 7, 4, 9, 2, 6, 8, 1, 1, 7, 4, 5, 9, 1, 8, 1, 2, 1, 1, 8, 6, 3, 0, 0, 3, 1, 1, 7, 1, 5, 3, 9, 8, 1, 4, 0, 7, 2, 5, 4, 4, 2, 1, 7, 3, 9, 9, 9, 4, 0, 7, 7, 2, 3, 1, 8, 9, 2, 6, 7, 9, 4, 8, 1, 3, 9, 4, 5, 9, 9, 3, 1, 0, 6, 7, 4, 7, 6, 4, 1, 3, 3, 0, 3, 4, 1, 8, 6, 7, 2, 6, 9, 7, 7, 5, 8, 6, 2, 7, 7, 6, 5, 3, 4, 9, 1, 3, 8, 8, 0, 9, 6, 9, 9, 7, 1, 4, 1, 9, 5, 3, 7, 2, 9, 1, 1, 8, 1, 9, 7, 4, 1, 5, 7, 8, 9, 0, 4, 2, 8, 7, 0, 0, 8, 7, 7, 9, 8, 9, 6, 5, 7, 4, 9, 8, 9, 4, 4, 8, 7, 2, 9, 2, 7, 5, 3, 4, 1, 1, 1, 2, 9, 3, 9, 7, 2, 0, 1, 8, 4, 9, 1, 7, 0, 2, 0, 8, 6, 8, 1, 6, 0, 1, 3, 1, 2, 1, 8, 2, 1, 5, 1, 1, 8, 7, 7, 6, 3, 6, 4, 9, 0, 5, 8, 3, 3, 8, 3, 9, 0, 8, 6, 6, 6, 1, 2, 1, 8, 1, 7, 9, 6, 7, 2, 4, 5, 6, 8, 8, 6, 8, 4, 1, 7, 4, 1, 8, 8, 1, 0, 3, 1, 9, 3, 5, 8, 7, 8, 7, 6, 4, 0, 4, 4, 7, 9, 3, 7, 1, 5, 9, 8, 3, 5, 1, 3, 5, 4, 8, 6, 6, 6, 0, 1, 8, 0, 8, 9, 7, 4, 1, 2, 9, 1, 9, 6, 7, 7, 7, 9, 4, 9, 8, 2, 1, 9, 1, 6, 8, 7, 7, 9, 8, 4, 1, 7, 4, 1, 9, 8, 6, 0, 5, 2, 2, 6, 1, 8, 6, 2, 4, 9, 8, 1, 7, 7, 6, 3, 1, 1, 6, 1, 3, 9, 8, 4, 1, 7, 1, 7, 5, 9, 8, 3, 7, 2, 1, 7, 5, 3, 3, 5, 6, 3, 6, 6, 5, 0, 7, 2, 7, 2, 7, 7, 7, 6, 6, 8, 0, 1, 1, 8, 8, 3, 7, 1, 3, 5, 6, 7, 8, 1, 5, 5, 4, 2, 0, 1, 2, 5, 3, 9, 9, 6, 0, 9, 7, 4, 8, 4, 4, 7, 1, 5, 3, 9, 9, 9, 1, 1, 2, 1, 1, 9, 5, 9, 0, 9, 9, 8, 2, 3, 5, 0, 2, 5, 1, 7, 0, 2, 7, 4, 0, 7, 0, 0, 6, 2, 8, 9, 5, 7, 1, 9, 5, 4, 6, 5, 8, 5, 8, 4, 1, 2, 6, 7, 8, 3, 2, 7, 6, 1, 1, 2, 9, 0, 9, 2, 2, 6, 7, 4, 4, 3, 7, 7, 7, 3, 1, 7, 8, 8, 0, 7, 2, 7, 9, 9, 5, 9, 9, 8, 3, 1, 7, 0, 2, 3, 7, 6, 9, 3, 8, 6, 0, 2, 1, 5, 7, 3, 9, 0, 0, 0, 2, 0, 3, 3, 7, 3, 9, 7, 7, 7, 2, 9, 1, 6, 4, 1, 7, 3, 7, 1, 4, 4, 0, 9, 8, 9, 2, 7, 7, 0, 7, 1, 8, 4, 0, 9, 8, 8, 2, 4, 7, 6, 8, 6, 9, 9, 1, 9, 8, 2, 1, 6, 2, 0, 0, 3, 1, 5, 7, 9, 9, 9, 6, 7, 8, 8, 5, 1, 2, 3, 7, 8, 2, 6, 0, 3, 1, 8, 7, 2, 6, 2, 7, 5, 3, 0, 7, 0, 7, 4, 5, 9, 3, 8, 1, 7, 6, 1, 7, 5, 9, 8, 0, 4, 9, 5, 6, 1, 3, 7, 1, 7, 7, 4, 0, 8, 9, 4, 1, 4, 2, 1, 3, 1, 1, 3, 6, 9, 3, 9, 7, 1, 9, 8, 5, 7, 9, 1, 1, 3, 6, 4, 5, 9, 9, 7, 6, 3, 8, 6, 2, 1, 8, 8, 8, 1, 6, 4, 3, 7, 9, 7, 5, 7, 5, 9, 3, 7, 1, 7, 9, 1, 0, 4, 7, 2, 6, 5, 9, 1, 7, 6, 9, 8, 0, 9, 4, 0, 4, 8, 0, 1, 1, 1, 8, 2, 4, 6, 7, 4, 1, 2, 3, 0, 6, 1, 2, 7, 6, 7, 2, 5, 0, 1, 7, 8, 5, 1, 1, 8, 8, 5, 2, 5, 1, 4, 0, 8, 0, 8, 1, 4, 0, 2, 7, 3, 4, 8, 5, 5, 7, 6, 9, 2, 1, 4, 8, 7, 7, 1, 7, 7, 9, 3, 7, 1, 7, 7, 5, 2, 0, 8, 8, 7, 4, 7, 8, 3, 2, 7, 7, 0, 0, 7, 6, 2, 7, 6, 7, 9, 7, 2, 6, 6, 1, 9, 6, 9, 3, 9, 0, 2, 8, 1, 1, 6, 8, 4, 1, 1, 1, 8, 1, 3, 2, 0, 3, 6, 1, 3, 4, 5, 7, 9, 7, 7, 6, 7, 6, 9, 1, 3, 6, 5, 8, 1, 9, 3, 9, 9, 6, 1, 1, 7, 0, 2, 9, 7, 8, 7, 1, 9, 3, 5, 0, 7, 8, 7, 1, 1, 8, 7, 5, 2, 2, 2, 0, 2, 9, 2, 6, 1, 6, 1, 1, 9, 5, 7, 7, 2, 9, 0, 8, 1, 5, 0, 1, 3, 8, 1, 6, 8, 5, 7, 9, 6, 1, 3, 9, 7, 6, 3, 8, 9, 5, 5, 2, 9, 1, 7, 2, 6, 5, 1, 0, 9, 4, 8, 0, 1, 8, 8, 4, 7, 7, 5, 8, 8, 5, 2, 4, 2, 4, 5, 8, 8, 3, 9, 9, 8, 7, 5, 1, 8, 8, 6, 0, 6, 6, 7, 8, 5, 9, 7, 4, 4, 5, 2, 0, 9, 1, 0, 1, 8, 0, 2, 7, 1, 1, 6, 6, 3, 9, 4, 8, 4, 5, 5, 7, 5, 2, 9, 8, 4, 1, 1, 9, 1, 7, 1, 3, 1, 1, 9, 8, 9, 9, 5, 9, 3, 6, 1, 7, 5, 4, 3, 3, 0, 1, 8, 7, 6, 1, 6, 0, 1, 0, 9, 7, 3, 9, 6, 7, 9, 8, 1, 4, 7, 7, 3, 8, 6, 3, 7, 0, 0, 6, 7, 5, 3, 6, 0, 8, 2, 4, 1, 3, 5, 7, 2, 3, 5, 6, 5, 1, 0, 3, 2, 4, 3, 8, 0, 7, 7, 9, 7, 2, 1, 9, 9, 0, 6, 6, 9, 2, 2, 8, 4, 7, 2, 0, 6, 2, 7, 2, 2, 2, 3, 8, 4, 6, 9, 5, 8, 4, 1, 3, 7, 4, 5, 2, 0, 3, 8, 7, 8, 7, 3, 4, 1, 1, 1, 3, 2, 6, 7, 8, 1, 5, 5, 3, 9, 9, 7, 6, 2, 3, 3, 1, 0, 6, 3, 2, 4, 6, 7, 5, 3, 1, 9, 1, 7, 3, 9, 6, 1, 8, 9, 8, 1, 8, 2, 0, 1, 2, 7, 3, 5, 2, 5, 6, 7, 0, 1, 0, 2, 2, 7, 0, 7, 7, 8, 3, 6, 2, 9, 7, 8, 5, 7, 9, 4, 3, 6, 5, 3, 7, 8, 2, 6, 7, 0, 9, 8, 7, 1, 6, 7, 6, 4, 0, 7, 1, 1, 2, 6, 9, 8, 7, 1, 6, 6, 7, 1, 7, 5, 3, 7, 7, 1, 3, 5, 2, 4, 9, 4, 7, 5, 8, 8, 9, 7, 1, 7, 2, 1, 7, 9, 5, 9, 3, 6, 7, 1, 7, 8, 0, 1, 7, 7, 1, 1, 7, 2, 8, 3, 2, 1, 2, 7, 6, 1, 3, 8, 7, 8, 9, 0, 6, 6, 3, 3, 8, 7, 3, 7, 1, 2, 0, 3, 9, 4, 8, 8, 9, 3, 8, 9, 7, 1, 1, 7, 0, 5, 7, 6, 6, 9, 1, 1, 0, 1, 0, 6, 7, 6, 7, 5, 7, 1, 9, 6, 9, 9, 4, 9, 9, 1, 7, 7, 5, 3, 1, 8, 2, 6, 6, 2, 2, 1, 1, 1, 3, 1, 5, 7, 1, 7, 3, 7, 1, 6, 9, 4, 0, 9, 7, 9, 8, 9, 0, 7, 6, 1, 5, 7, 3, 6, 5, 0, 7, 1, 6, 3, 3, 2, 8, 2, 4, 6, 6, 3, 1, 7, 8, 7, 9, 0, 5, 3, 1, 7, 7, 1, 0, 1, 3, 6, 1, 2, 1, 0, 1, 8, 7, 1, 9, 9, 3, 1, 9, 3, 6, 8, 8, 2, 3, 3, 1, 6, 4, 3, 7, 2, 4, 1, 7, 7, 1, 4, 2, 9, 7, 5, 8, 8, 2, 8, 2, 0, 7, 9, 6, 3, 5, 0, 6, 7, 8, 6, 5, 8, 8, 6, 8, 5, 9, 1, 1, 3, 5, 9, 9, 5, 7, 2, 7, 8, 7, 6, 6, 4, 5, 9, 7, 2, 0, 9, 7, 2, 3, 9, 9, 9, 1, 3, 3, 2, 1, 7, 0, 7, 5, 9, 1, 2, 8, 1, 9, 6, 4, 2, 5, 1, 3, 7, 3, 7, 1, 8, 2, 0, 4, 1, 4, 0, 4, 8, 8, 6, 0, 9, 9, 7, 6, 1, 6, 3, 7, 8, 4, 1, 7, 1, 8, 3, 1, 1, 6, 2, 5, 0, 3, 3, 2, 9, 6, 7, 1, 7, 1, 7, 6, 5, 9, 5, 2, 1, 9, 1, 1, 7, 1, 8, 6, 9, 9, 3, 8, 7, 8, 8, 7, 9, 1, 7, 0, 5, 6, 7, 3, 8, 1, 1, 3, 6, 2, 7, 3, 7, 5, 3, 1, 6, 1, 5, 1, 4, 2, 9, 8, 9, 3, 0, 6, 6, 7, 2, 1, 3, 1, 0, 9, 8, 7, 0, 3, 9, 3, 1, 6, 7, 0, 8, 8, 0, 7, 2, 8, 9, 7, 3, 4, 0, 4, 6, 2, 6, 3, 1, 0, 0, 8, 9, 5, 1, 2, 1, 2, 1, 7, 8, 6, 2, 6, 7, 0, 7, 1, 9, 1, 6, 9, 2, 4, 8, 4, 9, 9, 9, 5, 5, 1, 4, 1, 1, 7, 1, 7, 9, 7, 4, 7, 8, 7, 4, 0, 0, 1, 1, 1, 0, 9, 4, 7, 5, 3, 6, 0, 4, 2, 0, 5, 1, 9, 6, 1, 2, 8, 1, 3, 6, 6, 2, 7, 8, 8, 0, 1, 9, 7, 0, 6, 8, 7, 3, 4, 9, 4, 2, 1, 0, 5, 7, 6, 6, 6, 1, 0, 9, 3, 1, 6, 6, 9, 0, 8, 5, 0, 0, 8, 3, 4, 9, 8, 7, 8, 5, 2, 5, 1, 0, 5, 0, 6, 9, 0, 1, 8, 3, 1, 2, 1, 1, 5, 6, 7, 4, 5, 6, 8, 4, 5, 3, 8, 6, 6, 1, 9, 4, 9, 2, 7, 3, 5, 0, 9, 2, 5, 1, 1, 0, 7, 9, 9, 0, 1, 7, 5, 1, 6, 1, 7, 8, 6, 6, 8, 7, 6, 4, 7, 7, 2, 2, 3, 7, 0, 7, 7, 7, 6, 9, 3, 8, 8, 7, 3, 3, 7, 8, 8, 7, 7, 3, 6, 1, 1, 8, 3, 8, 8, 1, 1, 6, 7, 8, 4, 0, 7, 7, 6, 7, 1, 4, 1, 2, 8, 9, 8, 1, 4, 7, 1, 9, 7, 2, 7, 2, 6, 8, 6, 8, 9, 0, 5, 1, 1, 2, 2, 1, 8, 9, 7, 4, 2, 1, 1, 5, 1, 1, 7, 4, 2, 4, 5, 2, 5, 7, 3, 4, 9, 3, 1, 7, 9, 1, 6, 6, 7, 9, 7, 5, 4, 4, 2, 7, 0, 1, 0, 1, 3, 5, 8, 1, 1, 6, 2, 5, 0, 2, 2, 8, 7, 3, 1, 9, 0, 7, 9, 1, 9, 7, 7, 8, 4, 2, 0, 9, 1, 5, 6, 2, 8, 9, 6, 3, 1, 9, 1, 8, 5, 4, 0, 8, 9, 3, 3, 7, 5, 8, 0, 1, 9, 5, 6, 7, 8, 1, 2, 1, 9, 5, 9, 7, 8, 7, 8, 0, 1, 3, 0, 4, 6, 1, 6, 8, 4, 2, 4, 4, 1, 1, 6, 4, 9, 6, 0, 5, 7, 8, 6, 2, 7, 1, 7, 7, 4, 6, 6, 3, 1, 2, 6, 3, 1, 6, 0, 5, 7, 7, 7, 2, 6, 7, 7, 1, 3, 6, 8, 1, 9, 0, 1, 4, 1, 2, 3, 2, 3, 9, 9, 5, 1, 7, 3, 2, 8, 2, 7, 3, 9, 0, 6, 3, 5, 5, 1, 6, 3, 5, 9, 1, 7, 1, 2, 7, 4, 7, 3, 2, 2, 7, 8, 7, 8, 7, 6, 4, 5, 9, 2, 9, 2, 5, 2, 0, 7, 7, 1, 7, 1, 4, 2, 2, 0, 3, 1, 9, 2, 6, 1, 9, 5, 2, 0, 6, 2, 1, 6, 4, 9, 7, 1, 7, 9, 8, 1, 3, 9, 9, 6, 4, 2, 6, 9, 7, 7, 3, 6, 7, 1, 8, 7, 9, 6, 8, 4, 6, 9, 1, 9, 3, 6, 0, 2, 6, 0, 5, 7, 5, 8, 5, 9, 7, 9, 0, 7, 3, 7, 2, 7, 3, 2, 5, 7, 2, 7, 1, 8, 2, 3, 2, 7, 6, 6, 1, 8, 7, 1, 0, 3, 2, 6, 0, 5, 3, 4, 2, 8, 9, 0, 1, 9, 2, 1, 1, 7, 9, 9, 1, 1, 1, 6, 2, 8, 9, 0, 0, 1, 1, 8, 7, 3, 9, 2, 0, 8, 1, 0, 1, 2, 2, 2, 1, 3, 8, 7, 4, 1, 0, 6, 2, 1, 6, 6, 0, 1, 6, 3, 8, 1, 7, 7, 3, 8, 1, 9, 8, 9, 1, 7, 9, 4, 7, 8, 4, 7, 2, 7, 6, 7, 0, 4, 8, 2, 2, 4, 7, 8, 6, 0, 5, 7, 7, 0, 4, 8, 8, 1, 0, 7, 6, 2, 9, 1, 5, 4, 6, 1, 0, 2, 3, 7, 1, 6, 6, 9, 7, 4, 4, 7, 1, 9, 3, 3, 4, 6, 4, 8, 6, 0, 6, 5, 7, 0, 1, 7, 1, 1, 2, 7, 9, 5, 0, 7, 7, 6, 3, 2, 5, 9, 2, 0, 1, 9, 0, 2, 7, 8, 2, 7, 4, 7, 1, 1, 3, 6, 6, 6, 7, 1, 7, 9, 3, 3, 6, 4, 2, 9, 6, 2, 9, 2, 9, 7, 0, 2, 2, 4, 9, 9, 3, 2, 2, 9, 7, 5, 0, 2, 8, 5, 0, 7, 1, 1, 1, 0, 7, 6, 9, 7, 5, 6, 9, 1, 7, 9, 1, 1, 2, 9, 9, 1, 0, 3, 4, 6, 2, 9, 0, 5, 6, 6, 1, 8, 7, 1, 1, 1, 1, 9, 1, 0, 7, 4, 7, 4, 9, 1, 9, 8, 9, 5, 2, 2, 1, 9, 6, 8, 7, 1, 7, 7, 6, 1, 0, 3, 7, 3, 9, 2, 2, 6, 2, 1, 7, 8, 2, 1, 9, 5, 9, 7, 1, 9, 7, 3, 1, 7, 7, 6, 7, 2, 3, 3, 8, 0, 2, 2, 2, 8, 4, 6, 8, 7, 2, 3, 5, 0, 1, 7, 2, 2, 7, 9, 8, 1, 7, 9, 7, 5, 8, 7, 6, 0, 9, 6, 4, 7, 6, 1, 2, 3, 2, 6, 9, 4, 9, 6, 8, 4, 5, 6, 5, 6, 9, 1, 2, 8, 2, 2, 5, 4, 5, 4, 9, 7, 8, 4, 7, 8, 3, 9, 2, 1, 0, 1, 1, 0, 7, 1, 7, 8, 7, 4, 8, 7, 1, 7, 4, 9, 8, 1, 8, 3, 1, 6, 6, 0, 1, 1, 7, 0, 7, 9, 3, 7, 5, 4, 9, 7, 8, 7, 5, 2, 4, 0, 4, 0, 1, 1, 3, 2, 6, 2, 4, 7, 3, 4, 6, 4, 7, 1, 1, 4, 1, 1, 7, 8, 7, 0, 7, 1, 1, 0, 1, 1, 9, 8, 2, 7, 6, 3, 8, 0, 3, 6, 9, 9, 0, 7, 7, 2, 1, 2, 2, 4, 1, 1, 2, 9, 0, 5, 1, 0, 2, 6, 6, 7, 4, 3, 9, 8, 1, 5, 2, 7, 9, 3, 0, 3, 2, 4, 1, 7, 3, 8, 3, 1, 2, 0, 9, 3, 7, 5, 7, 6, 1, 6, 2, 4, 8, 7, 7, 7, 7, 9, 4, 0, 8, 9, 6, 9, 3, 9, 2, 1, 1, 6, 0, 7, 5, 6, 8, 3, 1, 1, 7, 2, 1, 1, 1, 5, 5, 4, 7, 4, 7, 5, 4, 8, 1, 9, 7, 9, 1, 8, 9, 5, 1, 3, 3, 0, 7, 9, 4, 3, 2, 0, 2, 9, 1, 6, 1, 6, 3, 3, 7, 1, 1, 1, 3, 5, 1, 0, 9, 9, 4, 1, 1, 1, 5, 9, 4, 8, 0, 2, 0, 4, 0, 4, 8, 8, 1, 5, 8, 2, 3, 5, 1, 8, 3, 0, 9, 4, 4, 0, 6, 9, 3, 4, 5, 9, 6, 0, 9, 1, 1, 3, 6, 7, 8, 1, 3, 9, 4, 7, 1, 2, 3, 5, 5, 1, 0, 7, 7, 1, 5, 7, 0, 7, 9, 1, 4, 6, 7, 2, 6, 0, 9, 1, 0, 8, 7, 0, 9, 7, 9, 9, 9, 2, 5, 7, 4, 8, 9, 3, 0, 4, 7, 8, 3, 7, 7, 5, 9, 2, 6, 1, 5, 1, 1, 5, 2, 1, 6, 8, 0, 3, 9, 3, 4, 6, 3, 2, 0, 6, 6, 5, 9, 3, 5, 4, 1, 7, 8, 1, 6, 9, 1, 8, 7, 5, 5, 1, 3, 2, 2, 3, 6, 7, 1, 9, 6, 0, 6, 0, 8, 8, 2, 1, 3, 6, 3, 9, 4, 3, 3, 9, 4, 9, 5, 2, 0, 5, 6, 6, 2, 4, 2, 9, 9, 2, 1, 7, 9, 6, 7, 1, 2, 1, 3, 6, 6, 0, 7, 0, 1, 1, 9, 1, 8, 5, 5, 1, 6, 7, 7, 4, 8, 9, 7, 5, 7, 8, 7, 2, 6, 3, 1, 1, 4, 6, 7, 1, 3, 9, 8, 1, 9, 7, 7, 8, 5, 9, 1, 6, 0, 9, 1, 3, 7, 7, 9, 7, 8, 1, 0, 0, 1, 1, 8, 3, 1, 7, 8, 9, 0, 5, 6, 4, 7, 5, 7, 1, 6, 8, 9, 2, 2, 7, 1, 8, 5, 9, 7, 0, 5, 7, 5, 2, 4, 2, 1, 0, 4, 9, 7, 1, 6, 4, 1, 3, 0, 0, 6, 0, 7, 8, 1, 3, 3, 7, 7, 5, 0, 8, 9, 4, 7, 4, 2, 8, 7, 2, 7, 7, 2, 1, 1, 1, 7, 7, 3, 1, 8, 8, 2, 8, 2, 2, 8, 5, 7, 8, 8, 7, 8, 8, 0, 1, 3, 8, 9, 7, 1, 6, 2, 9, 8, 3, 8, 1, 5, 2, 9, 7, 1, 1, 6, 5, 1, 7, 2, 0, 7, 1, 1, 7, 0, 1, 0, 9, 1, 6, 3, 3, 4, 3, 8, 0, 3, 1, 1, 1, 1, 9, 3, 7, 7, 9, 0, 1, 1, 2, 1, 7, 9, 7, 1, 0, 9, 0, 3, 1, 1, 9, 5, 9, 1, 4, 4, 7, 9, 7, 9, 5, 5, 2, 3, 3, 3, 0, 6, 7, 5, 8, 7, 7, 7, 1, 9, 5, 5, 2, 4, 2, 5, 7, 1, 4, 0, 1, 7, 5, 8, 1, 8, 2, 7, 6, 7, 9, 6, 7, 0, 2, 6, 8, 7, 8, 3, 9, 1, 2, 3, 2, 2, 8, 5, 6, 7, 4, 4, 3, 5, 1, 8, 1, 1, 9, 1, 4, 4, 3, 8, 7, 1, 3, 2, 8, 8, 0, 2, 7, 0, 0, 7, 4, 6, 6, 4, 3, 7, 3, 7, 1, 9, 4, 7, 2, 1, 9, 9, 8, 4, 1, 1, 1, 5, 7, 5, 1, 7, 5, 3, 9, 7, 9, 8, 7, 7, 1, 7, 0, 7, 7, 4, 9, 7, 3, 6, 1, 6, 8, 1, 9, 9, 2, 8, 5, 1, 6, 3, 5, 8, 3, 5, 9, 2, 6, 6, 0, 1, 2, 0, 8, 6, 3, 4, 8, 7, 7, 9, 6, 0, 8, 9, 4, 0, 3, 2, 8, 9, 0, 1, 8, 4, 6, 3, 9, 7, 5, 4, 4, 2, 7, 9, 3, 2, 1, 2, 5, 1, 8, 7, 0, 2, 5, 6, 9, 6, 1, 8, 7, 3, 2, 0, 6, 9, 2, 7, 4, 1, 7, 8, 5, 8, 9, 6, 6, 7, 2, 9, 5, 9, 8, 1, 9, 9, 7, 1, 1, 8, 3, 9, 5, 1, 1, 1, 7, 8, 4, 5, 8, 0, 2, 8, 7, 3, 5, 0, 0, 6, 1, 9, 8, 7, 1, 0, 2, 0, 7, 7, 7, 9, 0, 5, 6, 4, 8, 7, 9, 3, 0, 7, 4, 0, 7, 4, 2, 5, 3, 9, 7, 4, 2, 7, 6, 7, 8, 7, 8, 4, 9, 1, 8, 7, 3, 0, 1, 7, 8, 8, 1, 2, 7, 1, 5, 4, 6, 1, 9, 1, 2, 9, 6, 3, 9, 0, 1, 2, 8, 4, 4, 9, 7, 1, 1, 1, 3, 0, 2, 4, 7, 5, 3, 1, 7, 1, 6, 3, 1, 7, 1, 1, 0, 3, 4, 1, 3, 5, 6, 2, 9, 7, 5, 9, 0, 1, 7, 6, 0, 2, 9, 7, 2, 1, 1, 5, 7, 9, 7, 6, 9, 2, 2, 3, 1, 5, 9, 8, 7, 6, 1, 2, 3, 8, 9, 7, 3, 6, 1, 1, 9, 6, 9, 7, 8, 1, 6, 1, 9, 5, 3, 7, 1, 1, 0, 3, 1, 6, 6, 9, 9, 0, 7, 3, 0, 8, 7, 0, 6, 6, 0, 2, 5, 7, 7, 3, 8, 0, 0, 8, 8, 0, 3, 9, 1, 8, 2, 5, 2, 9, 1, 6, 5, 1, 7, 5, 1, 8, 7, 6, 0, 1, 9, 1, 7, 1, 9, 1, 1, 7, 7, 4, 7, 9, 3, 9, 2, 2, 3, 7, 1, 2, 0, 9, 1, 0, 1, 1, 7, 7, 6, 9, 9, 7, 8, 1, 5, 1, 2, 6, 4, 1, 9, 7, 6, 9, 4, 7, 5, 8, 7, 7, 5, 2, 8, 2, 7, 8, 1, 2, 2, 8, 4, 2, 3, 7, 3, 1, 0, 1, 6, 9, 4, 1, 6, 3, 1, 1, 4, 1, 7, 1, 1, 1, 2, 9, 4, 3, 9, 0, 4, 6, 7, 2, 3, 8, 7, 7, 4, 8, 2, 4, 7, 1, 1, 3, 8, 0, 3, 1, 7, 7, 6, 6, 1, 6, 5, 7, 4, 7, 3, 8, 9, 7, 1, 2, 0, 1, 1, 6, 6, 7, 7, 4, 7, 9, 7, 6, 4, 2, 6, 4, 3, 7, 7, 9, 1, 4, 6, 7, 7, 2, 8, 9, 0, 3, 1, 5, 4, 5, 9, 7, 3, 9, 5, 7, 6, 8, 3, 0, 1, 7, 8, 4, 0, 4, 7, 7, 3, 3, 4, 6, 8, 2, 0, 9, 8, 1, 5, 3, 7, 3, 8, 7, 5, 3, 7, 1, 2, 8, 8, 6, 2, 1, 2, 7, 7, 5, 1, 1, 7, 1, 0, 9, 1, 7, 9, 6, 1, 1, 2, 1, 1, 1, 5, 6, 5, 1, 6, 8, 0, 7, 6, 6, 9, 1, 1, 0, 5, 2, 2, 0, 4, 9, 3, 3, 4, 8, 3, 8, 7, 7, 4, 1, 3, 3, 4, 1, 6, 1, 7, 4, 7, 7, 2, 5, 7, 1, 9, 7, 2, 7, 3, 0, 1, 2, 8, 1, 1, 4, 1, 1, 1, 5, 0, 0, 7, 6, 7, 3, 2, 2, 8, 7, 3, 9, 4, 7, 8, 1, 8, 1, 6, 1, 1, 7, 9, 0, 0, 0, 6, 2, 2, 7, 3, 2, 1, 9, 7, 3, 7, 8, 1, 3, 9, 9, 9, 1, 7, 5, 6, 2, 5, 3, 1, 2, 3, 4, 7, 7, 8, 7, 0, 7, 7, 3, 2, 2, 7, 0, 8, 4, 7, 8, 9, 1, 0, 6, 0, 7, 6, 9, 0, 1, 1, 4, 8, 9, 2, 2, 3, 3, 7, 4, 2, 1, 7, 9, 3, 7, 6, 0, 9, 0, 6, 0, 1, 2, 2, 9, 7, 8, 7, 0, 1, 2, 2, 9, 7, 3, 7, 0, 1, 2, 2, 4, 5, 6, 7, 3, 7, 1, 8, 9, 7, 1, 5, 2, 1, 0, 7, 7, 1, 7, 3, 1, 9, 7, 3, 0, 9, 1, 9, 8, 7, 0, 6, 0, 0, 2, 1, 1, 1, 1, 7, 2, 7, 7, 5, 3, 9, 9, 6, 9, 7, 6, 7, 7, 0, 0, 7, 5, 1, 1, 7, 6, 0, 6, 3, 2, 2, 7, 7, 9, 0, 2, 9, 8, 1, 8, 7, 6, 1, 0, 5, 7, 6, 7, 8, 0, 8, 0, 8, 2, 9, 6, 3, 0, 1, 2, 2, 9, 5, 0, 7, 0, 1, 2, 2, 7, 4, 0, 7, 8, 9, 5, 1, 2, 2, 9, 5, 0, 7, 3, 4, 9, 4, 7, 9, 7, 7, 3, 9, 4, 4, 3, 1, 5, 8, 2, 7, 4, 3, 1, 4, 4, 4, 4, 8, 0, 9, 4, 9, 1, 8, 7, 6, 5, 1, 6, 9, 1, 3, 6, 3, 3, 2, 3, 0, 9, 7, 0, 4, 5, 2, 3, 8, 1, 5, 8, 6, 8, 1, 9, 7, 0, 8, 3, 7, 9, 7, 0, 7, 0, 0, 3, 1, 9, 3, 0, 6, 0, 1, 0, 1, 0, 9, 0, 1, 0, 9, 7, 9, 0, 2, 5, 2, 2, 9, 7, 0, 1, 2, 2, 9, 5, 6, 7, 4, 7, 0, 1, 2, 2, 7, 5, 6, 7, 4, 9, 0, 1, 2, 2, 7, 6, 6, 7, 5, 7, 8, 0, 8, 6, 6, 0, 4, 0, 6, 2, 7, 7, 7, 7, 1, 7, 1, 7, 1, 7, 0, 0, 9, 1, 7, 5, 7, 1, 3, 2, 2, 2, 6, 4, 7, 9, 3, 0, 2, 8, 2, 2, 0, 8, 7, 9, 3, 5, 9, 8, 1, 5, 7, 0, 6, 9, 2, 2, 8, 2, 9, 1, 9, 7, 6, 7, 2, 2, 0, 0, 1, 7, 7, 7, 4, 9, 9, 9, 6, 4, 9, 2, 2, 2, 1, 2, 7, 8, 9, 8, 2, 6, 6, 9, 8, 9, 6, 2, 0, 1, 5, 6, 7, 8, 9, 0, 1, 3, 2, 5, 0, 6, 7, 8, 7, 0, 1, 2, 3, 9, 6, 6, 7, 4, 7, 7, 9, 3, 0, 7, 0, 1, 5, 3, 3, 0, 2, 7, 8, 9, 7, 5, 1, 0, 9, 6, 8, 7, 7, 3, 0, 5, 0, 1, 2, 2, 7, 8, 6, 0, 1, 1, 4, 0, 4, 7, 7, 6, 2, 6, 0, 7, 3, 6, 4, 2, 9, 1, 8, 2, 5, 6, 7, 0, 6, 7, 1, 2, 6, 8, 1, 7, 2, 1, 2, 9, 7, 6, 7, 1, 9, 6, 2, 7, 2, 0, 1, 2, 2, 9, 2, 6, 7, 0, 1, 2, 2, 9, 2, 6, 1, 2, 6, 7, 1, 4, 0, 9, 6, 0, 6, 0, 7, 7, 1, 1, 3, 7, 2, 6, 7, 2, 3, 2, 1, 2, 9, 6, 2, 7, 1, 7, 1, 1, 0, 2, 4, 2, 6, 4, 7, 4, 2, 7, 7, 7, 1, 0, 6, 6, 6, 2, 6, 3, 2, 7, 7, 9, 6, 6, 7, 6, 7, 8, 0, 3, 6, 9, 1, 8, 1, 6, 0, 0, 1, 2, 3, 9, 5, 8, 9, 4, 7, 0, 1, 2, 3, 1, 4, 6, 7, 8, 7, 0, 1, 2, 2, 7, 6, 6, 7, 1, 7, 6, 6, 2, 2, 7, 2, 2, 1, 1, 8, 5, 6, 3, 2, 1, 2, 9, 7, 2, 4, 2, 4, 7, 1, 8, 8, 7, 3, 1, 0, 0, 7, 7, 8, 7, 5, 0, 2, 1, 8, 7, 1, 2, 1, 2, 5, 0, 7, 7, 7, 0, 2, 8, 7, 8, 4, 1, 5, 2, 6, 9, 0, 0, 0, 2, 7, 1, 8, 7, 2, 2, 6, 0, 8, 5, 9, 1, 3, 4, 6, 3, 9, 9, 5, 7, 3, 7, 1, 5, 6, 9, 7, 3, 2, 2, 0, 9, 1, 0, 1, 3, 3, 4, 5, 0, 7, 9, 9, 5, 1, 2, 7, 8, 4, 5, 1, 2, 3, 4, 5, 6, 1, 1, 1, 3, 2, 2, 0, 7, 5, 9, 7, 6, 0, 7, 9, 1, 3, 2, 1, 2, 3, 8, 3, 2, 0, 6, 0, 3, 2, 7, 9, 8, 1, 8, 0, 2, 3, 7, 4, 1, 4, 2, 1, 9, 6, 7, 9, 0, 4, 6, 1, 7, 2, 3, 7, 2, 7, 6, 8, 2, 3, 7, 0, 5, 7, 1, 6, 1, 0, 7, 2, 2, 7, 4, 0, 6, 2, 8, 4, 8, 1, 4, 5, 0, 0, 2, 0, 1, 4, 8, 6, 4, 2, 7, 0, 1, 6, 5, 7, 6, 6, 7, 2, 5, 1, 2, 2, 5, 2, 2, 7, 8, 7, 2, 7, 1, 3, 7, 2, 2, 8, 0, 7, 2, 9, 9, 5, 9, 1, 1, 3, 8, 3, 6, 2, 2, 1, 8, 3, 2, 5, 2, 2, 5, 0, 1, 6, 6, 2, 1, 7, 2, 1, 7, 6, 0, 4, 6, 1, 7, 8, 8, 7, 2, 7, 6, 2, 8, 6, 6, 7, 1, 5, 1, 6, 7, 6, 1, 2, 9, 3, 8, 9, 4, 5, 6, 0, 2, 0, 1, 2, 8, 9, 8, 2, 7, 2, 7, 0, 1, 2, 3, 9, 6, 3, 7, 3, 9, 0, 1, 2, 8, 9, 2, 2, 7, 2, 7, 2, 2, 2, 0, 2, 8, 7, 9, 1, 7, 3, 8, 0, 7, 1, 7, 1, 9, 0, 5, 2, 3, 1, 2, 9, 6, 7, 2, 0, 1, 7, 0, 6, 8, 7, 8, 1, 7, 7, 3, 3, 0, 8, 1, 1, 7, 1, 8, 2, 3, 1, 9, 2, 0, 0, 7, 8, 9, 8, 9, 7, 8, 1, 9, 7, 3, 6, 2, 8, 2, 9, 2, 8, 5, 2, 9, 2, 9, 0, 2, 2, 2, 1, 1, 2, 7, 7, 2, 7, 3, 2, 4, 7, 7, 2, 2, 1, 9, 1, 3, 0, 1, 2, 8, 4, 6, 6, 7, 2, 8, 0, 1, 3, 6, 4, 6, 6, 7, 6, 6, 0, 1, 2, 2, 4, 5, 6, 7, 6, 6, 1, 2, 6, 5, 3, 0, 7, 0, 9, 1, 4, 2, 6, 7, 2, 2, 1, 8, 1, 3, 5, 6, 0, 1, 3, 0, 2, 7, 6, 7, 6, 3, 5, 1, 5, 0, 6, 0, 6, 0, 3, 0, 6, 1, 5, 6, 4, 2, 0, 1, 6, 7, 4, 5, 0, 7, 6, 7, 6, 2, 7, 2, 2, 6, 2, 0, 7, 1, 3, 6, 1, 0, 7, 6, 8, 6, 8, 4, 7, 7, 0, 5, 2, 7, 9, 3, 6, 6, 2, 0, 1, 2, 3, 7, 6, 0, 7, 3, 7, 0, 1, 2, 2, 7, 6, 6, 7, 2, 7, 0, 1, 2, 3, 9, 6, 6, 7, 3, 7, 0, 3, 2, 7, 8, 6, 2, 0, 3, 9, 7, 1, 7, 1, 2, 2, 4, 9, 6, 9, 1, 1, 1, 2, 7, 5, 5, 2, 1, 2, 0, 7, 7, 5, 3, 2, 7, 3, 7, 0, 9, 5, 7, 1, 2, 7, 6, 6, 0, 2, 6, 8, 7, 0, 9, 2, 7, 7, 7, 5, 9, 2, 4, 2, 8, 1, 5, 1, 3, 0, 2, 6, 6, 7, 2, 0, 0, 0, 2, 2, 6, 7, 0, 6, 9, 3, 3, 2, 2, 9, 6, 9, 7, 1, 2, 7, 7, 1, 0, 1, 2, 8, 9, 2, 5, 7, 8, 7, 0, 1, 2, 2, 9, 2, 6, 7, 2, 0, 1, 2, 2, 9, 2, 6, 7, 8, 2, 1, 7, 2, 6, 0, 8, 0, 2, 7, 2, 6, 2, 5, 0, 6, 7, 6, 6, 1, 2, 2, 3, 7, 7, 9, 7, 7, 2, 7, 9, 5, 9, 2, 3, 2, 9, 1, 1, 9, 7, 9, 3, 7, 2, 3, 0, 6, 2, 6, 6, 6, 2, 6, 6, 6, 9, 9, 4, 7, 1, 0, 5, 0, 9, 5, 2, 3, 2, 6, 1, 1, 9, 2, 9, 2, 2, 6, 5, 7, 1, 4, 1, 4, 2, 9, 2, 0, 6, 0, 9, 0, 0, 1, 2, 8, 4, 7, 8, 7, 0, 1, 2, 2, 7, 8, 7, 0, 1, 8, 2, 4, 7, 3, 7, 7, 2, 0, 2, 1, 8, 9, 6, 4, 0, 2, 6, 8, 2, 2, 8, 1, 2, 0, 7, 1, 6, 4, 4, 5, 8, 0, 6, 6, 2, 1, 5, 1, 8, 5, 7, 4, 0, 7, 5, 4, 8, 2, 4, 7, 3, 0, 2, 5, 2, 1, 7, 3, 0, 1, 9, 7, 6, 0, 2, 7, 2, 8, 1, 9, 6, 5, 2, 7, 2, 5, 9, 9, 6, 0, 1, 2, 9, 9, 5, 0, 1, 2, 9, 9, 4, 8, 7, 1, 2, 8, 4, 8, 1, 0, 7, 5, 6, 6, 3, 9, 9, 8, 7, 1, 6, 4, 4, 9, 7, 8, 8, 9, 9, 2, 0, 9, 9, 9, 7, 9, 8, 4, 8, 9, 1, 1, 7, 6, 2, 4, 0, 3, 7, 7, 9, 0, 7, 0, 5, 9, 8, 2, 9, 8, 7, 5, 7, 8, 1, 0, 4, 1, 5, 7, 8, 4, 7, 4, 4, 1, 4, 6, 5, 2, 9, 1, 7, 5, 4, 1, 1, 5, 7, 9, 9, 1, 2, 6, 9, 4, 0, 1, 3, 8, 4, 5, 6, 7, 5, 9, 5, 1, 8, 3, 9, 7, 8, 7, 8, 1, 7, 8, 7, 7, 5, 7, 5, 7, 1, 4, 7, 8, 8, 7, 6, 6, 6, 1, 7, 5, 1, 7, 6, 2, 9, 1, 7, 1, 6, 7, 1, 7, 6, 1, 7, 1, 9, 3, 6, 7, 5, 1, 4, 9, 7, 2, 4, 9, 0, 1, 2, 2, 4, 8, 6, 7, 5, 9, 0, 1, 2, 3, 4, 8, 6, 9, 0, 1, 9, 3, 4, 7, 5, 1, 2, 5, 1, 7, 7, 3, 1, 4, 4, 3, 5, 4, 8, 0, 7, 4, 1, 8, 2, 4, 9, 1, 6, 0, 1, 0, 0, 2, 1, 7, 1, 1, 4, 0, 4, 1, 2, 6, 8, 0, 2, 1, 4, 0, 6, 9, 2, 6, 1, 3, 6, 9, 0, 9, 0, 0, 3, 4, 4, 0, 9, 4, 1, 3, 7, 6, 9, 3, 0, 4, 2, 0, 1, 2, 2, 7, 2, 6, 7, 3, 7, 6, 1, 2, 3, 9, 6, 5, 7, 2, 9, 0, 1, 2, 2, 4, 5, 5, 7, 8, 9, 2, 1, 7, 3, 2, 0, 3, 6, 2, 7, 3, 3, 2, 0, 8, 0, 2, 7, 8, 4, 1, 3, 3, 8, 7, 7, 7, 7, 7, 2, 7, 7, 6, 9, 3, 3, 2, 9, 2, 1, 1, 1, 9, 7, 6, 2, 7, 2, 2, 0, 2, 6, 6, 6, 3, 3, 8, 2, 6, 9, 7, 9, 9, 1, 0, 8, 6, 7, 5, 8, 4, 4, 8, 1, 1, 7, 4, 9, 6, 3, 5, 7, 7, 9, 1, 1, 7, 9, 7, 1, 3, 7, 2, 0, 8, 6, 9, 0, 4, 0, 1, 2, 3, 9, 6, 6, 7, 3, 9, 0, 1, 2, 2, 9, 2, 0, 7, 9, 7, 0, 1, 2, 3, 9, 5, 6, 7, 8, 7, 2, 8, 0, 7, 1, 0, 7, 2, 5, 6, 7, 0, 1, 0, 0, 8, 2, 9, 2, 1, 6, 0, 0, 7, 6, 2, 9, 7, 2, 7, 6, 9, 2, 9, 6, 7, 2, 6, 9, 7, 9, 9, 9, 1, 3, 3, 6, 3, 1, 2, 2, 9, 9, 8, 8, 2, 2, 1, 2, 3, 8, 6, 1, 2, 7, 2, 1, 3, 9, 2, 8, 7, 2, 7, 6, 7, 9, 8, 6, 6, 0, 8, 6, 2, 7, 6, 7, 7, 4, 8, 9, 1, 6, 6, 2, 0, 1, 3, 1, 7, 4, 6, 7, 8, 7, 0, 1, 3, 1, 9, 5, 6, 7, 4, 7, 0, 1, 2, 2, 9, 5, 6, 7, 8, 9, 7, 9, 6, 9, 0, 1, 7, 7, 8, 1, 9, 2, 4, 7, 4, 3, 7, 1, 3, 7, 9, 1, 3, 5, 9, 7, 4, 3, 6, 7, 0, 0, 8, 3, 6, 1, 7, 3, 2, 9, 5, 1, 7, 9, 8, 9, 7, 0, 7, 1, 7, 0, 4, 1, 7, 9, 1, 0, 3, 7, 5, 9, 7, 7, 4, 2, 7, 7, 1, 2, 6, 9, 2, 5, 2, 1, 0, 6, 5, 0, 6, 2, 8, 1, 6, 1, 0, 9, 1, 1, 6, 1, 7, 0, 1, 4, 4, 5, 7, 3, 7, 1, 2, 3, 9, 5, 6, 7, 0, 1, 2, 2, 9, 4, 6, 7, 1, 7, 9, 4, 0, 0, 7, 8, 9, 3, 1, 6, 6, 8, 4, 5, 8, 3, 5, 1, 9, 7, 1, 0, 3, 1, 7, 0, 1, 7, 1, 8, 7, 0, 1, 9, 8, 4, 7, 2, 7, 6, 8, 8, 7, 7, 8, 8, 7, 1, 8, 4, 2, 9, 8, 1, 9, 0, 7, 2, 6, 7, 7, 0, 3, 0, 5, 8, 2, 7, 7, 0, 1, 3, 1, 9, 8, 6, 7, 3, 7, 0, 1, 2, 2, 8, 5, 2, 7, 2, 9, 0, 1, 8, 3, 9, 3, 6, 7, 8, 7, 1, 7, 4, 3, 1, 3, 6, 3, 7, 2, 6, 6, 2, 3, 3, 6, 5, 4, 0, 9, 1, 7, 2, 7, 1, 5, 1, 2, 2, 2, 2, 0, 6, 4, 8, 7, 8, 9, 6, 8, 8, 1, 9, 0, 6, 1, 3, 6, 9, 3, 3, 1, 8, 8, 1, 0, 7, 7, 7, 6, 2, 7, 4, 7, 0, 2, 3, 9, 0, 0, 8, 8, 6, 3, 1, 8, 7, 5, 7, 8, 1, 9, 6, 9, 2, 7, 0, 3, 0, 8, 6, 7, 9, 7, 2, 8, 1, 1, 6, 3, 1, 3, 8, 9, 8, 5, 1, 2, 8, 9, 0, 5, 1, 2, 4, 4, 0, 7, 8, 1, 7, 3, 9, 1, 9, 1, 9, 9, 0, 2, 4, 8, 8, 1, 3, 4, 8, 1, 4, 5, 7, 5, 5, 1, 5, 8, 7, 0, 1, 6, 0, 3, 4, 0, 1, 4, 3, 9, 8, 3, 9, 7, 0, 9, 1, 9, 0, 8, 7, 1, 8, 3, 7, 7, 4, 8, 8, 8, 7, 8, 8, 1, 8, 3, 8, 1, 0, 3, 9, 9, 9, 1, 5, 4, 7, 5, 7, 9, 2, 8, 9, 1, 3, 3, 0, 1, 0, 0, 1, 2, 2, 9, 5, 6, 7, 6, 7, 0, 1, 2, 3, 7, 8, 6, 7, 6, 7, 0, 1, 2, 3, 4, 8, 6, 7, 6, 7, 0, 0, 7, 8, 0, 8, 8, 2, 7, 8, 6, 6, 5, 6, 4, 2, 8, 3, 3, 0, 1, 7, 6, 2, 9, 1, 7, 1, 2, 7, 0, 1, 3, 8, 2, 4, 3, 7, 8, 2, 6, 5, 8, 9, 7, 1, 1, 8, 7, 6, 8, 2, 1, 4, 3, 1, 7, 0, 7, 8, 6, 8, 7, 0, 1, 0, 5, 6, 2, 7, 7, 0, 1, 2, 8, 9, 6, 6, 7, 8, 7, 0, 1, 3, 8, 9, 6, 3, 9, 0, 1, 6, 8, 9, 6, 5, 7, 3, 9, 2, 1, 6, 1, 8, 9, 9, 3, 6, 8, 7, 0, 7, 7, 5, 7, 9, 7, 9, 7, 0, 3, 9, 1, 6, 3, 1, 7, 8, 7, 1, 8, 6, 6, 9, 5, 6, 5, 5, 8, 8, 5, 7, 2, 5, 9, 6, 9, 6, 6, 6, 1, 6, 0, 8, 3, 3, 8, 0, 3, 7, 9, 9, 4, 0, 9, 7, 0, 0, 9, 6, 0, 7, 1, 6, 2, 7, 6, 5, 3, 8, 2, 1, 5, 8, 8, 6, 1, 0, 6, 1, 9, 0, 1, 2, 2, 7, 6, 6, 7, 2, 1, 0, 1, 2, 3, 4, 2, 6, 7, 2, 9, 0, 1, 2, 2, 9, 6, 6, 7, 2, 1, 7, 6, 9, 7, 6, 2, 3, 7, 8, 7, 2, 6, 7, 2, 3, 2, 2, 8, 4, 2, 2, 6, 2, 0, 2, 0, 1, 1, 2, 7, 6, 2, 2, 1, 0, 6, 6, 2, 7, 7, 2, 2, 7, 2, 7, 1, 2, 2, 2, 1, 7, 8, 8, 0, 1, 1, 7, 6, 2, 6, 0, 9, 5, 0, 2, 3, 2, 6, 7, 8, 7, 7, 2, 0, 2, 1, 9, 7, 0, 7, 1, 0, 3, 2, 2, 5, 0, 7, 6, 0, 3, 8, 1, 5, 0, 7, 6, 9, 0, 1, 8, 2, 8, 0, 7, 2, 7, 7, 7, 0, 7, 0, 1, 9, 2, 6, 0, 9, 3, 8, 7, 6, 7, 6, 1, 0, 4, 7, 7, 4, 0, 9, 0, 1, 6, 7, 2, 2, 7, 1, 2, 0, 1, 1, 5, 7, 7, 0, 2, 6, 0, 7, 2, 4, 1, 7, 0, 6, 7, 3, 6, 8, 6, 3, 1, 8, 2, 7, 6, 6, 7, 1, 6, 2, 7, 2, 0, 1, 2, 3, 9, 6, 6, 7, 8, 7, 0, 1, 6, 2, 7, 6, 6, 7, 1, 7, 0, 1, 2, 2, 9, 5, 6, 7, 8, 7, 8, 7, 6, 7, 0, 2, 1, 6, 4, 7, 1, 5, 6, 9, 2, 9, 5, 1, 2, 9, 2, 9, 7, 3, 0, 6, 0, 1, 7, 2, 2, 3, 2, 5, 5, 7, 0, 5, 7, 7, 1, 1, 1, 7, 0, 7, 8, 2, 9, 4, 6, 2, 6, 0, 7, 6, 2, 8, 0, 1, 0, 6, 6, 2, 8, 7, 0, 7, 2, 2, 9, 6, 6, 2, 4, 0, 9, 6, 6, 6, 7, 7, 1, 9, 3, 1, 6, 2, 9, 7, 7, 7, 0, 0, 0, 1, 3, 3, 8, 8, 2, 1, 3, 7, 0, 1, 2, 2, 4, 8, 6, 7, 3, 7, 0, 1, 3, 2, 8, 5, 6, 7, 0, 1, 3, 1, 6, 1, 3, 1, 7, 3, 3, 2, 6, 0, 1, 1, 9, 3, 3, 2, 8, 1, 8, 2, 7, 7, 0, 2, 1, 0, 2, 6, 0, 1, 8, 8, 4, 5, 6, 7, 2, 7, 0, 1, 2, 3, 9, 5, 6, 7, 8, 7, 0, 1, 2, 2, 9, 5, 6, 7, 5, 9, 8, 6, 5, 7, 7, 0, 3, 3, 9, 4, 5, 5, 1, 5, 2, 2, 0, 1, 9, 1, 2, 3, 6, 5, 8, 0, 7, 2, 7, 9, 6, 4, 0, 5, 9, 7, 5, 7, 8, 8, 1, 7, 7, 7, 6, 6, 4, 0, 0, 0, 6, 9, 0, 0, 3, 7, 7, 4, 4, 2, 9, 2, 3, 9, 6, 0, 9, 6, 2, 2, 4, 7, 1, 9, 0, 9, 5, 0, 3, 2, 7, 0, 1, 7, 1, 5, 1, 7, 7, 5, 6, 8, 1, 6, 8, 6, 0, 1, 8, 4, 9, 7, 5, 7, 0, 1, 9, 8, 9, 6, 7, 4, 4, 0, 1, 8, 9, 9, 7, 2, 4, 1, 4, 5, 8, 8, 4, 7, 5, 4, 8, 4, 9, 9, 6, 7, 0, 7, 7, 1, 6, 9, 1, 8, 6, 8, 4, 4, 3, 8, 4, 9, 4, 5, 4, 7, 1, 9, 1, 1, 0, 8, 9, 3, 6, 9, 7, 9, 8, 1, 9, 8, 9, 8, 7, 9, 6, 1, 6, 6, 8, 2, 4, 2, 5, 7, 0, 9, 0, 0, 8, 0, 4, 1, 6, 0, 0, 1, 6, 2, 9, 5, 6, 7, 0, 1, 8, 2, 7, 7, 8, 7, 0, 1, 8, 6, 9, 7, 2, 5, 1, 0, 7, 2, 9, 7, 0, 7, 7, 1, 6, 7, 8, 6, 8, 0, 9, 3, 6, 5, 7, 0, 0, 1, 7, 4, 3, 5, 7, 1, 2, 7, 6, 9, 7, 7, 7, 7, 4, 7, 2, 8, 2, 2, 2, 5, 4, 0, 5, 9, 7, 1, 8, 1, 7, 7, 6, 2, 0, 9, 1, 7, 8, 2, 7, 1, 0, 7, 8, 9, 8, 2, 1, 4, 0, 4, 1, 4, 5, 6, 5, 0, 1, 2, 3, 4, 2, 6, 7, 6, 7, 0, 1, 2, 2, 9, 5, 6, 7, 6, 7, 0, 1, 2, 2, 4, 5, 6, 7, 6, 7, 2, 9, 7, 0, 2, 2, 9, 2, 6, 0, 1, 2, 0, 1, 2, 1, 2, 2, 0, 1, 2, 6, 4, 0, 6, 9, 4, 5, 9, 8, 3, 1, 1, 9, 1, 0, 0, 6, 6, 6, 2, 1, 7, 1, 6, 9, 2, 1, 1, 8, 0, 4, 6, 2, 2, 3, 9, 0, 1, 7, 1, 6, 1, 1, 2, 1, 6, 1, 2, 6, 0, 1, 2, 2, 9, 8, 0, 7, 8, 7, 0, 1, 2, 3, 4, 4, 6, 7, 8, 0, 1, 2, 2, 6, 0, 7, 4, 1, 0, 4, 5, 0, 0, 3, 9, 9, 5, 8, 1, 0, 0, 9, 9, 7, 2, 9, 2, 0, 7, 3, 2, 9, 1, 4, 2, 2, 1, 6, 7, 8, 7, 8, 7, 0, 2, 9, 0, 2, 9, 7, 8, 0, 7, 0, 0, 9, 2, 2, 4, 8, 6, 0, 5, 7, 6, 1, 0, 3, 1, 0, 7, 2, 9, 7, 7, 8, 5, 5, 2, 6, 2, 8, 1, 7, 5, 8, 7, 2, 8, 0, 1, 1, 3, 4, 9, 7, 9, 6, 1, 8, 6, 9, 7, 0, 1, 2, 2, 9, 6, 6, 7, 4, 7, 0, 1, 2, 2, 9, 6, 0, 7, 6, 9, 0, 1, 2, 3, 9, 5, 6, 7, 5, 7, 2, 5, 2, 2, 7, 2, 2, 1, 9, 5, 6, 2, 2, 2, 1, 2, 9, 7, 2, 1, 2, 8, 7, 1, 8, 8, 7, 9, 1, 0, 0, 6, 7, 7, 9, 7, 6, 0, 6, 1, 6, 7, 9, 6, 1, 2, 5, 0, 7, 7, 7, 0, 3, 7, 4, 8, 9, 1, 8, 6, 5, 9, 0, 0, 0, 2, 7, 1, 0, 9, 6, 0, 9, 6, 9, 1, 3, 8, 6, 3, 9, 9, 4, 9, 2, 7, 8, 2, 6, 9, 7, 5, 2, 2, 0, 9, 7, 0, 1, 2, 2, 9, 5, 6, 7, 8, 9, 0, 1, 2, 2, 7, 5, 6, 7, 3, 9, 0, 1, 2, 2, 7, 4, 6, 7, 8, 9, 6, 9, 2, 6, 9, 7, 6, 6, 7, 7, 2, 9, 2, 7, 2, 6, 2, 0, 7, 5, 5, 0, 1, 0, 6, 5, 2, 5, 2, 3, 0, 0, 2, 7, 1, 6, 2, 0, 1, 2, 0, 6, 2, 7, 3, 1, 7, 1, 2, 3, 5, 9, 2, 0, 9, 7, 5, 1, 9, 1, 6, 8, 6, 7, 1, 7, 8, 0, 6, 7, 9, 7, 7, 6, 3, 2, 7, 1, 9, 2, 8, 5, 3, 7, 1, 0, 1, 2, 3, 9, 7, 8, 7, 0, 1, 2, 8, 4, 7, 8, 4, 0, 1, 7, 5, 9, 8, 7, 2, 6, 1, 3, 5, 4, 9, 2, 6, 9, 2, 9, 8, 7, 2, 0, 9, 9, 4, 7, 7, 3, 1, 7, 4, 9, 7, 1, 5, 8, 2, 6, 6, 2, 2, 1, 2, 2, 7, 8, 1, 7, 0, 1, 1, 8, 8, 0, 7, 8, 1, 5, 1, 9, 6, 0, 0, 4, 7, 1, 0, 0, 7, 0, 7, 6, 1, 1, 0, 1, 2, 3, 5, 3, 3, 3, 9, 5, 0, 8, 5, 1, 3, 8, 8, 6, 2, 4, 3, 1, 9, 3, 7, 0, 1, 4, 2, 7, 7, 5, 8, 0, 0, 1, 0, 6, 8, 2, 9, 4, 2, 7, 2, 1, 0, 1, 0, 6, 7, 2, 2, 4, 6, 2, 0, 1, 3, 1, 7, 6, 6, 7, 8, 9, 0, 1, 3, 8, 9, 6, 0, 7, 5, 4, 0, 1, 2, 2, 9, 6, 0, 7, 3, 9, 1, 6, 8, 7, 7, 0, 1, 2, 4, 9, 3, 7, 7, 8, 7, 0, 3, 8, 7, 6, 3, 3, 1, 7, 0, 2, 4, 5, 2, 5, 1, 1, 6, 2, 1, 2, 3, 6, 8, 3, 6, 2, 6, 5, 0, 3, 8, 0, 6, 3, 1, 7, 7, 1, 9, 2, 6, 7, 6, 6, 2, 7, 7, 9, 3, 1, 2, 3, 4, 6, 5, 2, 0, 3, 7, 9, 7, 0, 1, 7, 4, 1, 7, 8, 0, 2, 6, 2, 6, 0, 1, 2, 8, 9, 8, 6, 7, 8, 7, 0, 1, 2, 3, 4, 3, 6, 7, 8, 7, 0, 1, 2, 9, 4, 7, 6, 7, 6, 9, 3, 5, 9, 7, 5, 7, 3, 7, 2, 7, 3, 0, 0, 1, 0, 4, 3, 6, 3, 5, 3, 0, 8, 9, 1, 8, 3, 0, 5, 2, 0, 6, 1, 7, 8, 0, 7, 2, 6, 7, 1, 7, 6, 7, 1, 9, 7, 6, 7, 1, 2, 5, 2, 7, 5, 6, 1, 2, 9, 7, 5, 7, 3, 7, 0, 1, 3, 7, 4, 5, 7, 6, 5, 1, 1, 9, 7, 8, 7, 7, 4, 4, 1, 9, 7, 7, 1, 0, 0, 5, 7, 7, 1, 7, 2, 3, 3, 6, 8, 8, 2, 0, 0, 5, 1, 7, 9, 4, 4, 2, 7, 9, 8, 8, 7, 1, 0, 8, 7, 7, 4, 8, 4, 3, 9, 6, 1, 1, 4, 4, 6, 7, 3, 6, 5, 9, 1, 6, 7, 1, 4, 9, 2, 0, 9, 3, 8, 1, 7, 0, 2, 5, 5, 7, 3, 8, 3, 8, 0, 1, 3, 3, 7, 6, 5, 7, 2, 7, 0, 1, 2, 3, 7, 5, 0, 7, 2, 7, 0, 1, 2, 2, 5, 0, 7, 3, 1, 0, 9, 2, 7, 6, 1, 2, 6, 7, 0, 9, 1, 7, 2, 2, 7, 9, 7, 0, 1, 7, 6, 3, 7, 8, 6, 6, 9, 6, 0, 4, 6, 8, 3, 2, 3, 7, 4, 1, 1, 5, 5, 1, 0, 0, 8, 2, 1, 1, 3, 7, 7, 7, 4, 2, 7, 3, 7, 6, 6, 1, 0, 7, 0, 3, 6, 8, 7, 1, 2, 9, 7, 2, 7, 3, 7, 7, 9, 8, 6, 2, 8, 8, 3, 2, 4, 8, 9, 7, 1, 7, 6, 0, 1, 3, 8, 7, 4, 6, 7, 1, 7, 0, 1, 3, 1, 9, 4, 6, 7, 9, 9, 4, 1, 2, 8, 7, 4, 6, 7, 8, 7, 1, 0, 1, 2, 7, 4, 3, 7, 4, 0, 0, 6, 1, 6, 0, 5, 7, 8, 1, 9, 7, 7, 1, 7, 0, 7, 7, 4, 7, 2, 2, 1, 9, 9, 0, 9, 1, 5, 1, 3, 3, 3, 1, 3, 7, 3, 3, 4, 7, 7, 6, 2, 1, 9, 8, 7, 8, 2, 7, 3, 2, 3, 7, 3, 3, 4, 4, 0, 7, 9, 4, 6, 6, 1, 4, 1, 1, 8, 8, 2, 0, 1, 4, 0, 1, 2, 2, 9, 4, 8, 7, 8, 9, 0, 1, 3, 2, 4, 5, 6, 7, 9, 9, 0, 1, 2, 8, 9, 8, 5, 9, 8, 8, 0, 5, 0, 8, 2, 3, 7, 7, 7, 1, 1, 7, 9, 7, 1, 9, 0, 0, 1, 7, 8, 9, 1, 1, 9, 3, 1, 6, 9, 7, 1, 3, 0, 1, 6, 8, 8, 9, 9, 8, 4, 9, 9, 1, 8, 7, 5, 6, 5, 8, 8, 1, 4, 7, 8, 3, 5, 0, 1, 7, 8, 9, 8, 8, 8, 3, 2, 6, 1, 8, 7, 5, 2, 0, 1, 6, 2, 4, 8, 6, 7, 8, 7, 0, 1, 6, 2, 4, 5, 6, 7, 3, 7, 0, 1, 6, 3, 8, 5, 6, 7, 8, 7, 9, 1, 6, 1, 5, 5, 7, 7, 2, 7, 1, 8, 9, 4, 3, 5, 2, 6, 5, 0, 8, 5, 6, 0, 8, 1, 1, 0, 8, 5, 4, 7, 4, 7, 6, 7, 5, 7, 1, 7, 1, 6, 6, 5, 6, 0, 1, 7, 5, 4, 7, 9, 5, 2, 7, 4, 3, 5, 9, 5, 6, 1, 1, 3, 8, 1, 5, 0, 1, 2, 2, 7, 7, 8, 7, 0, 1, 8, 2, 7, 3, 6, 7, 1, 0, 1, 2, 2, 9, 7, 3, 7, 6, 8, 3, 9, 8, 8, 3, 8, 3, 5, 1, 7, 1, 9, 2, 5, 6, 9, 1, 1, 1, 4, 1, 3, 0, 7, 7, 1, 8, 3, 9, 8, 8, 7, 3, 9, 8, 8, 7, 0, 7, 9, 7, 7, 5, 7, 2, 5, 8, 4, 1, 9, 1, 8, 3, 8, 8, 3, 7, 0, 8, 8, 5, 3, 9, 9, 9, 8, 7, 7, 1, 0, 1, 7, 8, 4, 5, 1, 4, 7, 4, 5, 6, 7, 8, 0, 1, 8, 9, 4, 7, 2, 7, 7, 8, 6, 9, 1, 7, 8, 3, 9, 7, 7, 0, 1, 7, 3, 3, 7, 9, 2, 6, 0, 0, 6, 3, 4, 7, 7, 1, 5, 6, 0, 1, 5, 0, 6, 6, 1, 1, 7, 7, 1, 7, 5, 5, 7, 0, 3, 6, 8, 7, 1, 2, 8, 9, 7, 9, 3, 5, 9, 1, 7, 2, 6, 3, 0, 1, 8, 1, 9, 5, 6, 7, 2, 9, 0, 1, 2, 2, 9, 5, 0]\n"
     ]
    }
   ],
   "source": [
    "# converting the prediction probability to class label for all data points\n",
    "\n",
    "Y_pred_labels = [np.argmax(i) for i in Y_pred]\n",
    "print(Y_pred_labels)"
   ]
  },
  {
   "cell_type": "code",
   "execution_count": 37,
   "id": "bc327c39-01e9-4a1e-926c-28d75caa9380",
   "metadata": {},
   "outputs": [
    {
     "name": "stdout",
     "output_type": "stream",
     "text": [
      "tf.Tensor(\n",
      "[[ 785    0    0    0   15   87   87    1    5    0]\n",
      " [   0 1104    3   15    1    0    0    3    5    4]\n",
      " [   2   36  556  221   14   14   72    7   89   21]\n",
      " [   0   76  350  319    8    9   19   20  187   22]\n",
      " [   4   18    0    2  235   29    6  166   30  492]\n",
      " [  11    8   69   23  160  265  168   10  149   29]\n",
      " [ 103    2   50    8   17  129  571    1   75    2]\n",
      " [   1   83    0    6   18    1    0  868    8   43]\n",
      " [   3   97  100  170   71   47   80   14  327   65]\n",
      " [   5   22    0    2   53    7    2  547   19  352]], shape=(10, 10), dtype=int32)\n"
     ]
    }
   ],
   "source": [
    "conf_mat = confusion_matrix(Y_test, Y_pred_labels)\n",
    "print(conf_mat)"
   ]
  },
  {
   "cell_type": "code",
   "execution_count": 40,
   "id": "e9cdab46-9d01-45b7-9f91-f1182ca217c7",
   "metadata": {},
   "outputs": [
    {
     "data": {
      "text/plain": [
       "Text(158.22222222222223, 0.5, 'True Labels')"
      ]
     },
     "execution_count": 40,
     "metadata": {},
     "output_type": "execute_result"
    },
    {
     "data": {
      "image/png": "[encoded data removed]",
      "text/plain": [
       "<Figure size 1500x700 with 2 Axes>"
      ]
     },
     "metadata": {},
     "output_type": "display_data"
    }
   ],
   "source": [
    "plt.figure(figsize=(15,7))\n",
    "sns.heatmap(conf_mat, annot=True, fmt='d', cmap='Blues')\n",
    "plt.xlabel('Predicted Labels')\n",
    "plt.ylabel('True Labels')"
   ]
  },
  {
   "cell_type": "code",
   "execution_count": 68,
   "id": "74d7937d-d158-41aa-8b1f-bfc235943ca7",
   "metadata": {},
   "outputs": [
    {
     "data": {
      "text/plain": [
       "array([[[255, 255, 255],\n",
       "        [255, 255, 255],\n",
       "        [255, 255, 255],\n",
       "        ...,\n",
       "        [255, 255, 255],\n",
       "        [255, 255, 255],\n",
       "        [255, 255, 255]],\n",
       "\n",
       "       [[255, 255, 255],\n",
       "        [255, 255, 255],\n",
       "        [255, 255, 255],\n",
       "        ...,\n",
       "        [255, 255, 255],\n",
       "        [255, 255, 255],\n",
       "        [255, 255, 255]],\n",
       "\n",
       "       [[255, 255, 255],\n",
       "        [255, 255, 255],\n",
       "        [255, 255, 255],\n",
       "        ...,\n",
       "        [255, 255, 255],\n",
       "        [255, 255, 255],\n",
       "        [255, 255, 255]],\n",
       "\n",
       "       ...,\n",
       "\n",
       "       [[255, 255, 255],\n",
       "        [255, 255, 255],\n",
       "        [255, 255, 255],\n",
       "        ...,\n",
       "        [255, 255, 255],\n",
       "        [255, 255, 255],\n",
       "        [255, 255, 255]],\n",
       "\n",
       "       [[255, 255, 255],\n",
       "        [255, 255, 255],\n",
       "        [255, 255, 255],\n",
       "        ...,\n",
       "        [255, 255, 255],\n",
       "        [255, 255, 255],\n",
       "        [255, 255, 255]],\n",
       "\n",
       "       [[255, 255, 255],\n",
       "        [255, 255, 255],\n",
       "        [255, 255, 255],\n",
       "        ...,\n",
       "        [255, 255, 255],\n",
       "        [255, 255, 255],\n",
       "        [255, 255, 255]]], dtype=uint8)"
      ]
     },
     "execution_count": 68,
     "metadata": {},
     "output_type": "execute_result"
    }
   ],
   "source": [
    "# For testing. input image file path\n",
    "\n",
    "input_image_path = '/home/faraz/Downloads/Python/digit_classification/0.png'\n",
    "\n",
    "input_image = cv2.imread(input_image_path)\n",
    "input_image"
   ]
  },
  {
   "cell_type": "code",
   "execution_count": 69,
   "id": "ef4a6acd-7b84-449a-ab90-2d8ee19960ee",
   "metadata": {},
   "outputs": [
    {
     "data": {
      "text/plain": [
       "<matplotlib.image.AxesImage at 0x7febad350460>"
      ]
     },
     "execution_count": 69,
     "metadata": {},
     "output_type": "execute_result"
    },
    {
     "data": {
      "image/png": "[encoded data removed]",
      "text/plain": [
       "<Figure size 640x480 with 1 Axes>"
      ]
     },
     "metadata": {},
     "output_type": "display_data"
    }
   ],
   "source": [
    "plt.imshow(input_image)"
   ]
  },
  {
   "cell_type": "code",
   "execution_count": 70,
   "id": "fde90d7f-e9d3-4c81-8e49-8959f62f0d58",
   "metadata": {},
   "outputs": [
    {
     "data": {
      "text/plain": [
       "numpy.ndarray"
      ]
     },
     "execution_count": 70,
     "metadata": {},
     "output_type": "execute_result"
    }
   ],
   "source": [
    "type(input_image)"
   ]
  },
  {
   "cell_type": "code",
   "execution_count": 71,
   "id": "822616d8-11ba-434f-8eaf-11b23826c312",
   "metadata": {},
   "outputs": [
    {
     "data": {
      "text/plain": [
       "(225, 225, 3)"
      ]
     },
     "execution_count": 71,
     "metadata": {},
     "output_type": "execute_result"
    }
   ],
   "source": [
    "input_image.shape"
   ]
  },
  {
   "cell_type": "code",
   "execution_count": 72,
   "id": "bc6c7192-d335-4d33-886e-6fcb595cb159",
   "metadata": {},
   "outputs": [
    {
     "data": {
      "text/plain": [
       "(225, 225)"
      ]
     },
     "execution_count": 72,
     "metadata": {},
     "output_type": "execute_result"
    }
   ],
   "source": [
    "# 3 means RGB, converting it to gray scale\n",
    "\n",
    "grayscale = cv2.cvtColor(input_image, cv2.COLOR_RGB2GRAY)\n",
    "grayscale.shape"
   ]
  },
  {
   "cell_type": "code",
   "execution_count": 73,
   "id": "8d58e87f-9876-43bb-b103-698bf8db07f5",
   "metadata": {},
   "outputs": [],
   "source": [
    "input_image_resized = cv2.resize(grayscale, (28,28))"
   ]
  },
  {
   "cell_type": "code",
   "execution_count": 74,
   "id": "d2cf3232-bbab-4f00-b454-cf8fcc3d57e2",
   "metadata": {},
   "outputs": [
    {
     "data": {
      "text/plain": [
       "(28, 28)"
      ]
     },
     "execution_count": 74,
     "metadata": {},
     "output_type": "execute_result"
    }
   ],
   "source": [
    "input_image_resized.shape"
   ]
  },
  {
   "cell_type": "code",
   "execution_count": 75,
   "id": "4ed84a50-93ad-4d9c-ba7e-4d2341a85570",
   "metadata": {},
   "outputs": [
    {
     "data": {
      "text/plain": [
       "<matplotlib.image.AxesImage at 0x7febad3e6a40>"
      ]
     },
     "execution_count": 75,
     "metadata": {},
     "output_type": "execute_result"
    },
    {
     "data": {
      "image/png": "[encoded data removed]",
      "text/plain": [
       "<Figure size 640x480 with 1 Axes>"
      ]
     },
     "metadata": {},
     "output_type": "display_data"
    }
   ],
   "source": [
    "plt.imshow(input_image_resized)"
   ]
  },
  {
   "cell_type": "code",
   "execution_count": 76,
   "id": "66f534d9-3c66-4399-b554-ffe199996cf8",
   "metadata": {},
   "outputs": [],
   "source": [
    "input_image_resized = input_image_resized/255\n"
   ]
  },
  {
   "cell_type": "code",
   "execution_count": 77,
   "id": "8d87bd49-6019-46ed-8d91-a888e17b31f1",
   "metadata": {},
   "outputs": [
    {
     "name": "stdout",
     "output_type": "stream",
     "text": [
      "1/1 [==============================] - 0s 15ms/step\n",
      "[[8.1874979e-01 2.5683079e-05 6.5273088e-01 6.2536538e-01 5.2048182e-01\n",
      "  9.1398376e-01 9.5250267e-01 7.0320035e-04 7.2811651e-01 4.4645175e-02]]\n"
     ]
    }
   ],
   "source": [
    "image_reshape = np.reshape(input_image_resized, [1,28,28])\n",
    "input_pred = model.predict(image_reshape)\n",
    "print(input_pred)"
   ]
  },
  {
   "cell_type": "code",
   "execution_count": 78,
   "id": "01b19a31-e8a9-4075-a672-a779f1e5f9a8",
   "metadata": {},
   "outputs": [
    {
     "name": "stdout",
     "output_type": "stream",
     "text": [
      "6\n"
     ]
    }
   ],
   "source": [
    "input_pred_label = np.argmax(input_pred)\n",
    "print(input_pred_label)"
   ]
  },
  {
   "cell_type": "code",
   "execution_count": 81,
   "id": "6f486a0b-1d12-4c13-801c-30071ab685d0",
   "metadata": {},
   "outputs": [
    {
     "name": "stdin",
     "output_type": "stream",
     "text": [
      "Path of image to be predicted:  /home/faraz/Downloads/Python/digit_classification/0.png\n"
     ]
    },
    {
     "name": "stdout",
     "output_type": "stream",
     "text": [
      "1/1 [==============================] - 0s 15ms/step\n",
      "Predicted value is  6\n"
     ]
    }
   ],
   "source": [
    "# Predictive System as input\n",
    "# path = /home/faraz/Downloads/Python/digit_classification/9.png\n",
    "input_image_path = input('Path of image to be predicted: ')\n",
    "\n",
    "input_image = cv2.imread(input_image_path)\n",
    "grayscale = cv2.cvtColor(input_image, cv2.COLOR_RGB2GRAY)\n",
    "input_image_resized = cv2.resize(grayscale, (28,28))\n",
    "input_image_resized = input_image_resized/255\n",
    "image_reshape = np.reshape(input_image_resized, [1,28,28])\n",
    "input_pred = model.predict(image_reshape)\n",
    "input_pred_label = np.argmax(input_pred)\n",
    "print('Predicted value is ', input_pred_label)"
   ]
  },
  {
   "cell_type": "code",
   "execution_count": null,
   "id": "7f1ef910-f9ec-49a7-aca2-f95afff9968a",
   "metadata": {},
   "outputs": [],
   "source": []
  }
 ],
 "metadata": {
  "kernelspec": {
   "display_name": "Python 3 (ipykernel)",
   "language": "python",
   "name": "python3"
  },
  "language_info": {
   "codemirror_mode": {
    "name": "ipython",
    "version": 3
   },
   "file_extension": ".py",
   "mimetype": "text/x-python",
   "name": "python",
   "nbconvert_exporter": "python",
   "pygments_lexer": "ipython3",
   "version": "3.10.12"
  }
 },
 "nbformat": 4,
 "nbformat_minor": 5
}
